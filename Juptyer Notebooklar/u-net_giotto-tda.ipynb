{
 "cells": [
  {
   "cell_type": "code",
   "execution_count": 1,
   "id": "2e7464da",
   "metadata": {},
   "outputs": [],
   "source": [
    "import os\n",
    "import glob\n",
    "import numpy as np\n",
    "import torch\n",
    "from sklearn.model_selection import train_test_split\n",
    "from monai.data import Dataset, DataLoader\n",
    "import pandas as pd"
   ]
  },
  {
   "cell_type": "markdown",
   "id": "f37059f6",
   "metadata": {},
   "source": [
    "## Verileri Yükleme ve Uygun Formata Dönüştürme"
   ]
  },
  {
   "cell_type": "code",
   "execution_count": 2,
   "id": "eb861fd1",
   "metadata": {},
   "outputs": [
    {
     "name": "stdout",
     "output_type": "stream",
     "text": [
      "Sınıflar ve etiketleri: {'Bleeding': 0, 'Ischemia': 1, 'Normal': 2}\n"
     ]
    }
   ],
   "source": [
    "DATA_DIR = r\"C:\\Users\\omer_\\Documents\\GitHub\\ytustats\\standard_u-net\\Brain_Stroke_CT_Dataset\"\n",
    "\n",
    "TRAIN_CLASSES = [\"Bleeding\", \"Ischemia\", \"Normal\"]\n",
    "class_map = {name: i for i, name in enumerate(TRAIN_CLASSES)}\n",
    "print(f\"Sınıflar ve etiketleri: {class_map}\")\n",
    "\n",
    "IMAGE_TYPE_FOLDER = 'DICOM' \n",
    "FILE_EXTENSION = '.dcm'"
   ]
  },
  {
   "cell_type": "code",
   "execution_count": 3,
   "id": "3c05ed26",
   "metadata": {},
   "outputs": [
    {
     "name": "stdout",
     "output_type": "stream",
     "text": [
      "\n",
      "Eğitim/Doğrulama/Test setleri için dosyalar taranıyor...\n",
      "Toplam 6650 adet görüntü dosyası bulundu.\n",
      "- Bleeding: 1093 adet\n",
      "- Ischemia: 1130 adet\n",
      "- Normal: 4427 adet\n"
     ]
    }
   ],
   "source": [
    "# --- 2. EĞİTİM/DOĞRULAMA/TEST VERİLERİNİ TOPLAMA ---\n",
    "\n",
    "image_files = []\n",
    "labels = []\n",
    "\n",
    "print(\"\\nEğitim/Doğrulama/Test setleri için dosyalar taranıyor...\")\n",
    "for class_name in TRAIN_CLASSES:\n",
    "    # YENİ YOL YAPISI: .../Brain_Stroke_CT_Dataset/Bleeding/PNG/\n",
    "    class_dir = os.path.join(DATA_DIR, class_name, IMAGE_TYPE_FOLDER)\n",
    "    \n",
    "    if not os.path.isdir(class_dir):\n",
    "        print(f\"UYARI: '{class_dir}' yolu bulunamadı, atlanıyor.\")\n",
    "        continue\n",
    "\n",
    "    # Belirtilen yoldaki tüm dosyaları bul\n",
    "    files_in_class = glob.glob(os.path.join(class_dir, f'*{FILE_EXTENSION}'))\n",
    "    image_files.extend(files_in_class)\n",
    "    # Her dosya için ilgili etiket numarasını ekle\n",
    "    labels.extend([class_map[class_name]] * len(files_in_class))\n",
    "\n",
    "print(f\"Toplam {len(image_files)} adet görüntü dosyası bulundu.\")\n",
    "for i, name in enumerate(TRAIN_CLASSES):\n",
    "    print(f\"- {name}: {labels.count(i)} adet\")\n"
   ]
  },
  {
   "cell_type": "code",
   "execution_count": 4,
   "id": "9e4b7948",
   "metadata": {},
   "outputs": [
    {
     "name": "stdout",
     "output_type": "stream",
     "text": [
      "\n",
      "Veri seti ayırma işlemi tamamlandı:\n",
      "Eğitim Seti (Train):   4655 örnek\n",
      "Doğrulama Seti (Val):  997 örnek\n",
      "Test Seti (Bizim):     998 örnek\n"
     ]
    }
   ],
   "source": [
    "# --- 3. VERİYİ AYIRMA (TRAIN/VALIDATION/TEST - 70/15/15) ---\n",
    "X_train, X_temp, y_train, y_temp = train_test_split(\n",
    "    image_files, labels, test_size=0.30, random_state=42, stratify=labels\n",
    ")\n",
    "X_val, X_test, y_val, y_test = train_test_split(\n",
    "    X_temp, y_temp, test_size=0.50, random_state=42, stratify=y_temp\n",
    ")\n",
    "\n",
    "print(\"\\nVeri seti ayırma işlemi tamamlandı:\")\n",
    "print(f\"Eğitim Seti (Train):   {len(X_train)} örnek\")\n",
    "print(f\"Doğrulama Seti (Val):  {len(X_val)} örnek\")\n",
    "print(f\"Test Seti (Bizim):     {len(X_test)} örnek\") # Kendi oluşturduğumuz test seti\n",
    "\n",
    "\n",
    "train_data = [{\"image\": img_path, \"label\": label} for img_path, label in zip(X_train, y_train)]\n",
    "val_data = [{\"image\": img_path, \"label\": label} for img_path, label in zip(X_val, y_val)]\n",
    "test_data = [{\"image\": img_path, \"label\": label} for img_path, label in zip(X_test, y_test)]"
   ]
  },
  {
   "cell_type": "code",
   "execution_count": 5,
   "id": "8d8d35e0",
   "metadata": {},
   "outputs": [
    {
     "name": "stdout",
     "output_type": "stream",
     "text": [
      "\n",
      "Dış test setinden 200 adet görüntü dosyası bulundu.\n"
     ]
    }
   ],
   "source": [
    "# --- 4. EXTERNAL TEST IMPORT ETME\n",
    "external_test_data = []\n",
    "external_test_dir = os.path.join(DATA_DIR, \"External_Test\", IMAGE_TYPE_FOLDER)\n",
    "if os.path.isdir(external_test_dir):\n",
    "    external_test_files = glob.glob(os.path.join(external_test_dir, f'*{FILE_EXTENSION}'))\n",
    "    for img_path in external_test_files:\n",
    "        # Dış test seti için etiket bilgisi yok, sadece görüntü yolu\n",
    "        external_test_data.append({\"image\": img_path})\n",
    "\n",
    "    print(f\"\\nDış test setinden {len(external_test_data)} adet görüntü dosyası bulundu.\")\n",
    "else:\n",
    "    print(\"\\nDış test seti bulunamadı veya klasör mevcut değil.\")\n",
    "    "
   ]
  },
  {
   "cell_type": "code",
   "execution_count": 6,
   "id": "1c47ee08",
   "metadata": {},
   "outputs": [],
   "source": [
    "# MONAI ÖN İŞLEME ZİNCİRİ(TRANSFORMS)\n",
    "\n",
    "from monai.transforms import (\n",
    "    Compose,\n",
    "    LoadImaged,\n",
    "    EnsureChannelFirstd,\n",
    "    ScaleIntensityd,\n",
    "    Resized,\n",
    "    RandRotated,\n",
    "    RandFlipd,\n",
    "    ToTensord\n",
    ")\n",
    "train_transforms = Compose([\n",
    "    LoadImaged(keys=\"image\", image_only=True),\n",
    "    EnsureChannelFirstd(keys=\"image\"),\n",
    "    ScaleIntensityd(keys=\"image\"),\n",
    "    Resized(keys=\"image\", spatial_size=(256, 256)),\n",
    "    RandRotated(keys=\"image\", range_x=15, prob=0.5, keep_size=True),\n",
    "    RandFlipd(keys=\"image\", spatial_axis=0, prob=0.5),\n",
    "    ToTensord(keys=[\"image\", \"label\"])\n",
    "])\n",
    "\n",
    "val_transforms = Compose([\n",
    "    LoadImaged(keys=\"image\", image_only=True),\n",
    "    EnsureChannelFirstd(keys=\"image\"),\n",
    "    ScaleIntensityd(keys=\"image\"),\n",
    "    Resized(keys=\"image\", spatial_size=(256, 256)),\n",
    "    ToTensord(keys=[\"image\", \"label\"])\n",
    "])"
   ]
  },
  {
   "cell_type": "code",
   "execution_count": 7,
   "id": "11d9a9da",
   "metadata": {},
   "outputs": [
    {
     "name": "stdout",
     "output_type": "stream",
     "text": [
      "\n",
      "Tüm DataLoader'lar başarıyla oluşturuldu.\n"
     ]
    }
   ],
   "source": [
    "# --- 6. MONAI DATASET VE DATALOADER OLUŞTURMA ---\n",
    "train_dataset = Dataset(data=train_data, transform=train_transforms)\n",
    "val_dataset = Dataset(data=val_data, transform=val_transforms)\n",
    "test_dataset = Dataset(data=test_data, transform=val_transforms)\n",
    "external_test_dataset = Dataset(data=external_test_data, transform=val_transforms)\n",
    "\n",
    "# DataLoader'lar\n",
    "train_loader = DataLoader(train_dataset, batch_size=16, shuffle=True, num_workers=2)\n",
    "val_loader = DataLoader(val_dataset, batch_size=16, shuffle=False, num_workers=2)\n",
    "test_loader = DataLoader(test_dataset, batch_size=16, shuffle=False, num_workers=2)\n",
    "external_test_loader = DataLoader(external_test_dataset, batch_size=16, shuffle=False, num_workers=2)\n",
    "\n",
    "print(\"\\nTüm DataLoader'lar başarıyla oluşturuldu.\")"
   ]
  },
  {
   "cell_type": "code",
   "execution_count": 9,
   "id": "601f04fb",
   "metadata": {},
   "outputs": [
    {
     "name": "stdout",
     "output_type": "stream",
     "text": [
      "\n",
      "Eğitim yükleyicisi kontrolü:\n",
      "Görüntülerin boyutu: torch.Size([16, 1, 256, 256])\n",
      "Etiketlerin boyutu: torch.Size([16])\n"
     ]
    },
    {
     "data": {
      "image/png": "[encoded data removed]",
      "text/plain": [
       "<Figure size 600x600 with 1 Axes>"
      ]
     },
     "metadata": {},
     "output_type": "display_data"
    }
   ],
   "source": [
    "import matplotlib.pyplot as plt\n",
    "\n",
    "if len(train_loader) > 0:\n",
    "    check_batch = next(iter(train_loader))\n",
    "    images, labels = check_batch[\"image\"], check_batch[\"label\"]\n",
    "    print(f\"\\nEğitim yükleyicisi kontrolü:\")\n",
    "    print(f\"Görüntülerin boyutu: {images.shape}\")\n",
    "    print(f\"Etiketlerin boyutu: {labels.shape}\")\n",
    "\n",
    "    plt.figure(\"Veri Hattı Kontrolü\", figsize=(6, 6))\n",
    "    plt.imshow(images[0, 0, :, :], cmap=\"gray\")\n",
    "    plt.title(f\"Örnek Görüntü\\nEtiket: {labels[0].item()} ({TRAIN_CLASSES[labels[0].item()]})\")\n",
    "    plt.axis('off')\n",
    "    plt.show()\n",
    "else:\n",
    "    print(\"\\nUYARI: Eğitim yükleyicisi boş, kontrol adımı atlandı. Dosya yollarını kontrol edin.\")"
   ]
  },
  {
   "cell_type": "markdown",
   "id": "2c23944c",
   "metadata": {},
   "source": [
    "## Standart U-Net Modeli (MONAI)"
   ]
  },
  {
   "cell_type": "code",
   "execution_count": 8,
   "id": "6e776741",
   "metadata": {},
   "outputs": [
    {
     "name": "stdout",
     "output_type": "stream",
     "text": [
      "\n",
      "Kullanılan cihaz: cuda\n"
     ]
    }
   ],
   "source": [
    "import torch\n",
    "import torch.nn as nn\n",
    "from torch.optim import Adam\n",
    "from monai.networks.nets import UNet\n",
    "from monai.losses import FocalLoss, DiceLoss\n",
    "from torch.optim.lr_scheduler import ReduceLROnPlateau\n",
    "\n",
    "device = torch.device(\"cuda\" if torch.cuda.is_available() else \"cpu\")\n",
    "print(f\"\\nKullanılan cihaz: {device}\")"
   ]
  },
  {
   "cell_type": "code",
   "execution_count": 9,
   "id": "61f2ca07",
   "metadata": {},
   "outputs": [
    {
     "name": "stdout",
     "output_type": "stream",
     "text": [
      "\n",
      "Model başarıyla oluşturuldu.\n",
      "Modelin parametre sayısı: 1,809,508\n",
      "\n",
      "Kayıp fonksiyonu: FocalLoss\n",
      "Optimizasyon algoritması: Adam (LR: 0.0001)\n"
     ]
    },
    {
     "name": "stderr",
     "output_type": "stream",
     "text": [
      "c:\\Users\\omer_\\anaconda3\\envs\\tdl\\lib\\site-packages\\torch\\optim\\lr_scheduler.py:62: UserWarning: The verbose parameter is deprecated. Please use get_last_lr() to access the learning rate.\n",
      "  warnings.warn(\n"
     ]
    }
   ],
   "source": [
    "# --- STANDART MONAI U-Net AĞI OLUŞTURMA ---\n",
    "# U-Net'e bir sınıflandırma katmanı ekleyelim\n",
    "\n",
    "class ClassificationUNet(nn.Module):\n",
    "    def __init__(self, in_channels, out_channels):\n",
    "        # BU SATIR ÇOK ÖNEMLİ! PyTorch modelinin temelini kurar.\n",
    "        super().__init__()\n",
    "        \n",
    "        # BU SATIR, hatanın bahsettiği 'unet_base' parçasını oluşturur.\n",
    "        self.unet_base = UNet(\n",
    "            spatial_dims=2,\n",
    "            in_channels=in_channels,\n",
    "            out_channels=128, \n",
    "            channels=(16, 32, 64, 128, 256),\n",
    "            strides=(2, 2, 2, 2),\n",
    "            num_res_units=2,\n",
    "        )\n",
    "        self.pool = nn.AdaptiveAvgPool2d(1)\n",
    "        self.classifier = nn.Linear(128, out_channels)\n",
    "\n",
    "    def forward(self, x):\n",
    "        features = self.unet_base(x)\n",
    "        pooled_features = self.pool(features)\n",
    "        pooled_features = torch.flatten(pooled_features, 1)\n",
    "        output = self.classifier(pooled_features)\n",
    "        return output\n",
    "\n",
    "\n",
    "model = ClassificationUNet(in_channels=1, out_channels=3).to(device)\n",
    "\n",
    "print(f\"\\nModel başarıyla oluşturuldu.\")\n",
    "print(f\"Modelin parametre sayısı: {sum(p.numel() for p in model.parameters() if p.requires_grad):,}\")\n",
    "\n",
    "# --- KAYIP FONKSİYONU VE OPTİMİZASYON ---\n",
    "\n",
    "loss_function = FocalLoss(to_onehot_y=True)\n",
    "\n",
    "learning_rate = 1e-4\n",
    "optimizer = Adam(model.parameters(), lr=learning_rate)\n",
    "scheduler = ReduceLROnPlateau(optimizer, mode='min', factor=0.1, patience=3, verbose=True)\n",
    "\n",
    "print(f\"\\nKayıp fonksiyonu: {loss_function.__class__.__name__}\")\n",
    "print(f\"Optimizasyon algoritması: {optimizer.__class__.__name__} (LR: {learning_rate})\")\n"
   ]
  },
  {
   "cell_type": "code",
   "execution_count": null,
   "id": "3b2c3450",
   "metadata": {},
   "outputs": [],
   "source": [
    "from tqdm import tqdm\n",
    "import matplotlib.pyplot as plt\n",
    "\n",
    "max_epochs = 20\n",
    "val_interval = 1\n",
    "best_metric = -1\n",
    "best_metric_epoch = -1\n",
    "epoch_loss_values = []\n",
    "val_loss_values = []\n",
    "metric_values = []"
   ]
  },
  {
   "cell_type": "code",
   "execution_count": null,
   "id": "04855085",
   "metadata": {},
   "outputs": [
    {
     "name": "stdout",
     "output_type": "stream",
     "text": [
      "--------------------\n",
      "Epoch 1/50\n"
     ]
    },
    {
     "name": "stderr",
     "output_type": "stream",
     "text": [
      "Eğitim: 100%|██████████| 291/291 [01:30<00:00,  3.21it/s]\n"
     ]
    },
    {
     "name": "stdout",
     "output_type": "stream",
     "text": [
      "Epoch 1 için ortalama eğitim kaybı: 0.1314\n"
     ]
    },
    {
     "name": "stderr",
     "output_type": "stream",
     "text": [
      "Doğrulama: 100%|██████████| 63/63 [00:27<00:00,  2.29it/s]\n"
     ]
    },
    {
     "name": "stdout",
     "output_type": "stream",
     "text": [
      "En iyi metrik kaydedildi!\n",
      "Epoch 1 Ortalama Doğrulama Kaybı: 0.1275 | Doğruluk: 0.6660\n",
      "En iyi metrik şu ana kadar: 0.6660 (epoch 1)\n",
      "--------------------\n",
      "Epoch 2/50\n"
     ]
    },
    {
     "name": "stderr",
     "output_type": "stream",
     "text": [
      "Eğitim: 100%|██████████| 291/291 [01:25<00:00,  3.39it/s]\n"
     ]
    },
    {
     "name": "stdout",
     "output_type": "stream",
     "text": [
      "Epoch 2 için ortalama eğitim kaybı: 0.1242\n"
     ]
    },
    {
     "name": "stderr",
     "output_type": "stream",
     "text": [
      "Doğrulama: 100%|██████████| 63/63 [00:24<00:00,  2.59it/s]\n"
     ]
    },
    {
     "name": "stdout",
     "output_type": "stream",
     "text": [
      "Epoch 2 Ortalama Doğrulama Kaybı: 0.1180 | Doğruluk: 0.6660\n",
      "En iyi metrik şu ana kadar: 0.6660 (epoch 1)\n",
      "--------------------\n",
      "Epoch 3/50\n"
     ]
    },
    {
     "name": "stderr",
     "output_type": "stream",
     "text": [
      "Eğitim: 100%|██████████| 291/291 [01:29<00:00,  3.24it/s]\n"
     ]
    },
    {
     "name": "stdout",
     "output_type": "stream",
     "text": [
      "Epoch 3 için ortalama eğitim kaybı: 0.1184\n"
     ]
    },
    {
     "name": "stderr",
     "output_type": "stream",
     "text": [
      "Doğrulama: 100%|██████████| 63/63 [00:24<00:00,  2.60it/s]\n"
     ]
    },
    {
     "name": "stdout",
     "output_type": "stream",
     "text": [
      "En iyi metrik kaydedildi!\n",
      "Epoch 3 Ortalama Doğrulama Kaybı: 0.1104 | Doğruluk: 0.7111\n",
      "En iyi metrik şu ana kadar: 0.7111 (epoch 3)\n",
      "--------------------\n",
      "Epoch 4/50\n"
     ]
    },
    {
     "name": "stderr",
     "output_type": "stream",
     "text": [
      "Eğitim: 100%|██████████| 291/291 [01:22<00:00,  3.53it/s]\n"
     ]
    },
    {
     "name": "stdout",
     "output_type": "stream",
     "text": [
      "Epoch 4 için ortalama eğitim kaybı: 0.1164\n"
     ]
    },
    {
     "name": "stderr",
     "output_type": "stream",
     "text": [
      "Doğrulama: 100%|██████████| 63/63 [00:23<00:00,  2.74it/s]\n"
     ]
    },
    {
     "name": "stdout",
     "output_type": "stream",
     "text": [
      "En iyi metrik kaydedildi!\n",
      "Epoch 4 Ortalama Doğrulama Kaybı: 0.1098 | Doğruluk: 0.7372\n",
      "En iyi metrik şu ana kadar: 0.7372 (epoch 4)\n",
      "--------------------\n",
      "Epoch 5/50\n"
     ]
    },
    {
     "name": "stderr",
     "output_type": "stream",
     "text": [
      "Eğitim: 100%|██████████| 291/291 [01:17<00:00,  3.73it/s]\n"
     ]
    },
    {
     "name": "stdout",
     "output_type": "stream",
     "text": [
      "Epoch 5 için ortalama eğitim kaybı: 0.1124\n"
     ]
    },
    {
     "name": "stderr",
     "output_type": "stream",
     "text": [
      "Doğrulama: 100%|██████████| 63/63 [00:22<00:00,  2.74it/s]\n"
     ]
    },
    {
     "name": "stdout",
     "output_type": "stream",
     "text": [
      "En iyi metrik kaydedildi!\n",
      "Epoch 5 Ortalama Doğrulama Kaybı: 0.1071 | Doğruluk: 0.7452\n",
      "En iyi metrik şu ana kadar: 0.7452 (epoch 5)\n",
      "--------------------\n",
      "Epoch 6/50\n"
     ]
    },
    {
     "name": "stderr",
     "output_type": "stream",
     "text": [
      "Eğitim: 100%|██████████| 291/291 [01:18<00:00,  3.73it/s]\n"
     ]
    },
    {
     "name": "stdout",
     "output_type": "stream",
     "text": [
      "Epoch 6 için ortalama eğitim kaybı: 0.1105\n"
     ]
    },
    {
     "name": "stderr",
     "output_type": "stream",
     "text": [
      "Doğrulama: 100%|██████████| 63/63 [00:24<00:00,  2.54it/s]\n"
     ]
    },
    {
     "name": "stdout",
     "output_type": "stream",
     "text": [
      "Epoch 6 Ortalama Doğrulama Kaybı: 0.1004 | Doğruluk: 0.7422\n",
      "En iyi metrik şu ana kadar: 0.7452 (epoch 5)\n",
      "--------------------\n",
      "Epoch 7/50\n"
     ]
    },
    {
     "name": "stderr",
     "output_type": "stream",
     "text": [
      "Eğitim: 100%|██████████| 291/291 [01:19<00:00,  3.66it/s]\n"
     ]
    },
    {
     "name": "stdout",
     "output_type": "stream",
     "text": [
      "Epoch 7 için ortalama eğitim kaybı: 0.1082\n"
     ]
    },
    {
     "name": "stderr",
     "output_type": "stream",
     "text": [
      "Doğrulama: 100%|██████████| 63/63 [00:24<00:00,  2.55it/s]\n"
     ]
    },
    {
     "name": "stdout",
     "output_type": "stream",
     "text": [
      "Epoch 7 Ortalama Doğrulama Kaybı: 0.1046 | Doğruluk: 0.7262\n",
      "En iyi metrik şu ana kadar: 0.7452 (epoch 5)\n",
      "--------------------\n",
      "Epoch 8/50\n"
     ]
    },
    {
     "name": "stderr",
     "output_type": "stream",
     "text": [
      "Eğitim: 100%|██████████| 291/291 [01:19<00:00,  3.68it/s]\n"
     ]
    },
    {
     "name": "stdout",
     "output_type": "stream",
     "text": [
      "Epoch 8 için ortalama eğitim kaybı: 0.1062\n"
     ]
    },
    {
     "name": "stderr",
     "output_type": "stream",
     "text": [
      "Doğrulama: 100%|██████████| 63/63 [00:24<00:00,  2.55it/s]\n"
     ]
    },
    {
     "name": "stdout",
     "output_type": "stream",
     "text": [
      "Epoch 8 Ortalama Doğrulama Kaybı: 0.1006 | Doğruluk: 0.7352\n",
      "En iyi metrik şu ana kadar: 0.7452 (epoch 5)\n",
      "--------------------\n",
      "Epoch 9/50\n"
     ]
    },
    {
     "name": "stderr",
     "output_type": "stream",
     "text": [
      "Eğitim: 100%|██████████| 291/291 [01:19<00:00,  3.68it/s]\n"
     ]
    },
    {
     "name": "stdout",
     "output_type": "stream",
     "text": [
      "Epoch 9 için ortalama eğitim kaybı: 0.1059\n"
     ]
    },
    {
     "name": "stderr",
     "output_type": "stream",
     "text": [
      "Doğrulama: 100%|██████████| 63/63 [00:24<00:00,  2.56it/s]\n"
     ]
    },
    {
     "name": "stdout",
     "output_type": "stream",
     "text": [
      "En iyi metrik kaydedildi!\n",
      "Epoch 9 Ortalama Doğrulama Kaybı: 0.0946 | Doğruluk: 0.7573\n",
      "En iyi metrik şu ana kadar: 0.7573 (epoch 9)\n",
      "--------------------\n",
      "Epoch 10/50\n"
     ]
    },
    {
     "name": "stderr",
     "output_type": "stream",
     "text": [
      "Eğitim: 100%|██████████| 291/291 [01:19<00:00,  3.68it/s]\n"
     ]
    },
    {
     "name": "stdout",
     "output_type": "stream",
     "text": [
      "Epoch 10 için ortalama eğitim kaybı: 0.1039\n"
     ]
    },
    {
     "name": "stderr",
     "output_type": "stream",
     "text": [
      "Doğrulama: 100%|██████████| 63/63 [00:24<00:00,  2.57it/s]\n"
     ]
    },
    {
     "name": "stdout",
     "output_type": "stream",
     "text": [
      "En iyi metrik kaydedildi!\n",
      "Epoch 10 Ortalama Doğrulama Kaybı: 0.0920 | Doğruluk: 0.7693\n",
      "En iyi metrik şu ana kadar: 0.7693 (epoch 10)\n",
      "--------------------\n",
      "Epoch 11/50\n"
     ]
    },
    {
     "name": "stderr",
     "output_type": "stream",
     "text": [
      "Eğitim: 100%|██████████| 291/291 [01:19<00:00,  3.65it/s]\n"
     ]
    },
    {
     "name": "stdout",
     "output_type": "stream",
     "text": [
      "Epoch 11 için ortalama eğitim kaybı: 0.1037\n"
     ]
    },
    {
     "name": "stderr",
     "output_type": "stream",
     "text": [
      "Doğrulama: 100%|██████████| 63/63 [00:24<00:00,  2.55it/s]\n"
     ]
    },
    {
     "name": "stdout",
     "output_type": "stream",
     "text": [
      "Epoch 11 Ortalama Doğrulama Kaybı: 0.0914 | Doğruluk: 0.7452\n",
      "En iyi metrik şu ana kadar: 0.7693 (epoch 10)\n",
      "--------------------\n",
      "Epoch 12/50\n"
     ]
    },
    {
     "name": "stderr",
     "output_type": "stream",
     "text": [
      "Eğitim: 100%|██████████| 291/291 [01:19<00:00,  3.67it/s]\n"
     ]
    },
    {
     "name": "stdout",
     "output_type": "stream",
     "text": [
      "Epoch 12 için ortalama eğitim kaybı: 0.1000\n"
     ]
    },
    {
     "name": "stderr",
     "output_type": "stream",
     "text": [
      "Doğrulama: 100%|██████████| 63/63 [00:24<00:00,  2.55it/s]\n"
     ]
    },
    {
     "name": "stdout",
     "output_type": "stream",
     "text": [
      "En iyi metrik kaydedildi!\n",
      "Epoch 12 Ortalama Doğrulama Kaybı: 0.0877 | Doğruluk: 0.7783\n",
      "En iyi metrik şu ana kadar: 0.7783 (epoch 12)\n",
      "--------------------\n",
      "Epoch 13/50\n"
     ]
    },
    {
     "name": "stderr",
     "output_type": "stream",
     "text": [
      "Eğitim: 100%|██████████| 291/291 [01:18<00:00,  3.69it/s]\n"
     ]
    },
    {
     "name": "stdout",
     "output_type": "stream",
     "text": [
      "Epoch 13 için ortalama eğitim kaybı: 0.0990\n"
     ]
    },
    {
     "name": "stderr",
     "output_type": "stream",
     "text": [
      "Doğrulama: 100%|██████████| 63/63 [00:24<00:00,  2.54it/s]\n"
     ]
    },
    {
     "name": "stdout",
     "output_type": "stream",
     "text": [
      "Epoch 13 Ortalama Doğrulama Kaybı: 0.0937 | Doğruluk: 0.7543\n",
      "En iyi metrik şu ana kadar: 0.7783 (epoch 12)\n",
      "--------------------\n",
      "Epoch 14/50\n"
     ]
    },
    {
     "name": "stderr",
     "output_type": "stream",
     "text": [
      "Eğitim: 100%|██████████| 291/291 [01:19<00:00,  3.65it/s]\n"
     ]
    },
    {
     "name": "stdout",
     "output_type": "stream",
     "text": [
      "Epoch 14 için ortalama eğitim kaybı: 0.0973\n"
     ]
    },
    {
     "name": "stderr",
     "output_type": "stream",
     "text": [
      "Doğrulama: 100%|██████████| 63/63 [00:26<00:00,  2.34it/s]\n"
     ]
    },
    {
     "name": "stdout",
     "output_type": "stream",
     "text": [
      "Epoch 14 Ortalama Doğrulama Kaybı: 0.0855 | Doğruluk: 0.7703\n",
      "En iyi metrik şu ana kadar: 0.7783 (epoch 12)\n",
      "--------------------\n",
      "Epoch 15/50\n"
     ]
    },
    {
     "name": "stderr",
     "output_type": "stream",
     "text": [
      "Eğitim: 100%|██████████| 291/291 [01:21<00:00,  3.59it/s]\n"
     ]
    },
    {
     "name": "stdout",
     "output_type": "stream",
     "text": [
      "Epoch 15 için ortalama eğitim kaybı: 0.0968\n"
     ]
    },
    {
     "name": "stderr",
     "output_type": "stream",
     "text": [
      "Doğrulama: 100%|██████████| 63/63 [00:24<00:00,  2.55it/s]\n"
     ]
    },
    {
     "name": "stdout",
     "output_type": "stream",
     "text": [
      "Epoch 15 Ortalama Doğrulama Kaybı: 0.0859 | Doğruluk: 0.7643\n",
      "En iyi metrik şu ana kadar: 0.7783 (epoch 12)\n",
      "--------------------\n",
      "Epoch 16/50\n"
     ]
    },
    {
     "name": "stderr",
     "output_type": "stream",
     "text": [
      "Eğitim: 100%|██████████| 291/291 [01:19<00:00,  3.68it/s]\n"
     ]
    },
    {
     "name": "stdout",
     "output_type": "stream",
     "text": [
      "Epoch 16 için ortalama eğitim kaybı: 0.0946\n"
     ]
    },
    {
     "name": "stderr",
     "output_type": "stream",
     "text": [
      "Doğrulama: 100%|██████████| 63/63 [00:24<00:00,  2.56it/s]\n"
     ]
    },
    {
     "name": "stdout",
     "output_type": "stream",
     "text": [
      "En iyi metrik kaydedildi!\n",
      "Epoch 16 Ortalama Doğrulama Kaybı: 0.0856 | Doğruluk: 0.7904\n",
      "En iyi metrik şu ana kadar: 0.7904 (epoch 16)\n",
      "--------------------\n",
      "Epoch 17/50\n"
     ]
    },
    {
     "name": "stderr",
     "output_type": "stream",
     "text": [
      "Eğitim: 100%|██████████| 291/291 [01:19<00:00,  3.67it/s]\n"
     ]
    },
    {
     "name": "stdout",
     "output_type": "stream",
     "text": [
      "Epoch 17 için ortalama eğitim kaybı: 0.0931\n"
     ]
    },
    {
     "name": "stderr",
     "output_type": "stream",
     "text": [
      "Doğrulama: 100%|██████████| 63/63 [00:24<00:00,  2.57it/s]\n"
     ]
    },
    {
     "name": "stdout",
     "output_type": "stream",
     "text": [
      "Epoch 17 Ortalama Doğrulama Kaybı: 0.0863 | Doğruluk: 0.7743\n",
      "En iyi metrik şu ana kadar: 0.7904 (epoch 16)\n",
      "--------------------\n",
      "Epoch 18/50\n"
     ]
    },
    {
     "name": "stderr",
     "output_type": "stream",
     "text": [
      "Eğitim: 100%|██████████| 291/291 [01:20<00:00,  3.63it/s]\n"
     ]
    },
    {
     "name": "stdout",
     "output_type": "stream",
     "text": [
      "Epoch 18 için ortalama eğitim kaybı: 0.0910\n"
     ]
    },
    {
     "name": "stderr",
     "output_type": "stream",
     "text": [
      "Doğrulama: 100%|██████████| 63/63 [00:24<00:00,  2.54it/s]\n"
     ]
    },
    {
     "name": "stdout",
     "output_type": "stream",
     "text": [
      "Epoch 18 Ortalama Doğrulama Kaybı: 0.0885 | Doğruluk: 0.7733\n",
      "En iyi metrik şu ana kadar: 0.7904 (epoch 16)\n",
      "--------------------\n",
      "Epoch 19/50\n"
     ]
    },
    {
     "name": "stderr",
     "output_type": "stream",
     "text": [
      "Eğitim: 100%|██████████| 291/291 [01:19<00:00,  3.68it/s]\n"
     ]
    },
    {
     "name": "stdout",
     "output_type": "stream",
     "text": [
      "Epoch 19 için ortalama eğitim kaybı: 0.0863\n"
     ]
    },
    {
     "name": "stderr",
     "output_type": "stream",
     "text": [
      "Doğrulama: 100%|██████████| 63/63 [00:24<00:00,  2.55it/s]\n"
     ]
    },
    {
     "name": "stdout",
     "output_type": "stream",
     "text": [
      "En iyi metrik kaydedildi!\n",
      "Epoch 19 Ortalama Doğrulama Kaybı: 0.0783 | Doğruluk: 0.8124\n",
      "En iyi metrik şu ana kadar: 0.8124 (epoch 19)\n",
      "--------------------\n",
      "Epoch 20/50\n"
     ]
    },
    {
     "name": "stderr",
     "output_type": "stream",
     "text": [
      "Eğitim: 100%|██████████| 291/291 [01:18<00:00,  3.72it/s]\n"
     ]
    },
    {
     "name": "stdout",
     "output_type": "stream",
     "text": [
      "Epoch 20 için ortalama eğitim kaybı: 0.0845\n"
     ]
    },
    {
     "name": "stderr",
     "output_type": "stream",
     "text": [
      "Doğrulama: 100%|██████████| 63/63 [00:23<00:00,  2.71it/s]\n"
     ]
    },
    {
     "name": "stdout",
     "output_type": "stream",
     "text": [
      "Epoch 20 Ortalama Doğrulama Kaybı: 0.0776 | Doğruluk: 0.8034\n",
      "En iyi metrik şu ana kadar: 0.8124 (epoch 19)\n",
      "--------------------\n",
      "Epoch 21/50\n"
     ]
    },
    {
     "name": "stderr",
     "output_type": "stream",
     "text": [
      "Eğitim: 100%|██████████| 291/291 [01:18<00:00,  3.73it/s]\n"
     ]
    },
    {
     "name": "stdout",
     "output_type": "stream",
     "text": [
      "Epoch 21 için ortalama eğitim kaybı: 0.0833\n"
     ]
    },
    {
     "name": "stderr",
     "output_type": "stream",
     "text": [
      "Doğrulama: 100%|██████████| 63/63 [00:23<00:00,  2.73it/s]\n"
     ]
    },
    {
     "name": "stdout",
     "output_type": "stream",
     "text": [
      "En iyi metrik kaydedildi!\n",
      "Epoch 21 Ortalama Doğrulama Kaybı: 0.0770 | Doğruluk: 0.8134\n",
      "En iyi metrik şu ana kadar: 0.8134 (epoch 21)\n",
      "--------------------\n",
      "Epoch 22/50\n"
     ]
    },
    {
     "name": "stderr",
     "output_type": "stream",
     "text": [
      "Eğitim: 100%|██████████| 291/291 [01:18<00:00,  3.72it/s]\n"
     ]
    },
    {
     "name": "stdout",
     "output_type": "stream",
     "text": [
      "Epoch 22 için ortalama eğitim kaybı: 0.0819\n"
     ]
    },
    {
     "name": "stderr",
     "output_type": "stream",
     "text": [
      "Doğrulama: 100%|██████████| 63/63 [00:25<00:00,  2.51it/s]\n"
     ]
    },
    {
     "name": "stdout",
     "output_type": "stream",
     "text": [
      "Epoch 22 Ortalama Doğrulama Kaybı: 0.0769 | Doğruluk: 0.8104\n",
      "En iyi metrik şu ana kadar: 0.8134 (epoch 21)\n",
      "--------------------\n",
      "Epoch 23/50\n"
     ]
    },
    {
     "name": "stderr",
     "output_type": "stream",
     "text": [
      "Eğitim: 100%|██████████| 291/291 [01:19<00:00,  3.67it/s]\n"
     ]
    },
    {
     "name": "stdout",
     "output_type": "stream",
     "text": [
      "Epoch 23 için ortalama eğitim kaybı: 0.0818\n"
     ]
    },
    {
     "name": "stderr",
     "output_type": "stream",
     "text": [
      "Doğrulama: 100%|██████████| 63/63 [00:24<00:00,  2.56it/s]\n"
     ]
    },
    {
     "name": "stdout",
     "output_type": "stream",
     "text": [
      "En iyi metrik kaydedildi!\n",
      "Epoch 23 Ortalama Doğrulama Kaybı: 0.0760 | Doğruluk: 0.8164\n",
      "En iyi metrik şu ana kadar: 0.8164 (epoch 23)\n",
      "--------------------\n",
      "Epoch 24/50\n"
     ]
    },
    {
     "name": "stderr",
     "output_type": "stream",
     "text": [
      "Eğitim: 100%|██████████| 291/291 [01:19<00:00,  3.68it/s]\n"
     ]
    },
    {
     "name": "stdout",
     "output_type": "stream",
     "text": [
      "Epoch 24 için ortalama eğitim kaybı: 0.0792\n"
     ]
    },
    {
     "name": "stderr",
     "output_type": "stream",
     "text": [
      "Doğrulama: 100%|██████████| 63/63 [00:24<00:00,  2.55it/s]\n"
     ]
    },
    {
     "name": "stdout",
     "output_type": "stream",
     "text": [
      "Epoch 24 Ortalama Doğrulama Kaybı: 0.0754 | Doğruluk: 0.8144\n",
      "En iyi metrik şu ana kadar: 0.8164 (epoch 23)\n",
      "--------------------\n",
      "Epoch 25/50\n"
     ]
    },
    {
     "name": "stderr",
     "output_type": "stream",
     "text": [
      "Eğitim: 100%|██████████| 291/291 [01:19<00:00,  3.64it/s]\n"
     ]
    },
    {
     "name": "stdout",
     "output_type": "stream",
     "text": [
      "Epoch 25 için ortalama eğitim kaybı: 0.0799\n"
     ]
    },
    {
     "name": "stderr",
     "output_type": "stream",
     "text": [
      "Doğrulama: 100%|██████████| 63/63 [00:26<00:00,  2.34it/s]\n"
     ]
    },
    {
     "name": "stdout",
     "output_type": "stream",
     "text": [
      "Epoch 25 Ortalama Doğrulama Kaybı: 0.0750 | Doğruluk: 0.8154\n",
      "En iyi metrik şu ana kadar: 0.8164 (epoch 23)\n",
      "--------------------\n",
      "Epoch 26/50\n"
     ]
    },
    {
     "name": "stderr",
     "output_type": "stream",
     "text": [
      "Eğitim: 100%|██████████| 291/291 [01:20<00:00,  3.61it/s]\n"
     ]
    },
    {
     "name": "stdout",
     "output_type": "stream",
     "text": [
      "Epoch 26 için ortalama eğitim kaybı: 0.0788\n"
     ]
    },
    {
     "name": "stderr",
     "output_type": "stream",
     "text": [
      "Doğrulama: 100%|██████████| 63/63 [00:25<00:00,  2.51it/s]\n"
     ]
    },
    {
     "name": "stdout",
     "output_type": "stream",
     "text": [
      "En iyi metrik kaydedildi!\n",
      "Epoch 26 Ortalama Doğrulama Kaybı: 0.0740 | Doğruluk: 0.8195\n",
      "En iyi metrik şu ana kadar: 0.8195 (epoch 26)\n",
      "--------------------\n",
      "Epoch 27/50\n"
     ]
    },
    {
     "name": "stderr",
     "output_type": "stream",
     "text": [
      "Eğitim: 100%|██████████| 291/291 [01:21<00:00,  3.57it/s]\n"
     ]
    },
    {
     "name": "stdout",
     "output_type": "stream",
     "text": [
      "Epoch 27 için ortalama eğitim kaybı: 0.0779\n"
     ]
    },
    {
     "name": "stderr",
     "output_type": "stream",
     "text": [
      "Doğrulama: 100%|██████████| 63/63 [00:26<00:00,  2.39it/s]\n"
     ]
    },
    {
     "name": "stdout",
     "output_type": "stream",
     "text": [
      "Epoch 27 Ortalama Doğrulama Kaybı: 0.0741 | Doğruluk: 0.8185\n",
      "En iyi metrik şu ana kadar: 0.8195 (epoch 26)\n",
      "--------------------\n",
      "Epoch 28/50\n"
     ]
    },
    {
     "name": "stderr",
     "output_type": "stream",
     "text": [
      "Eğitim: 100%|██████████| 291/291 [01:19<00:00,  3.66it/s]\n"
     ]
    },
    {
     "name": "stdout",
     "output_type": "stream",
     "text": [
      "Epoch 28 için ortalama eğitim kaybı: 0.0781\n"
     ]
    },
    {
     "name": "stderr",
     "output_type": "stream",
     "text": [
      "Doğrulama: 100%|██████████| 63/63 [00:24<00:00,  2.55it/s]\n"
     ]
    },
    {
     "name": "stdout",
     "output_type": "stream",
     "text": [
      "En iyi metrik kaydedildi!\n",
      "Epoch 28 Ortalama Doğrulama Kaybı: 0.0744 | Doğruluk: 0.8225\n",
      "En iyi metrik şu ana kadar: 0.8225 (epoch 28)\n",
      "--------------------\n",
      "Epoch 29/50\n"
     ]
    },
    {
     "name": "stderr",
     "output_type": "stream",
     "text": [
      "Eğitim: 100%|██████████| 291/291 [01:19<00:00,  3.68it/s]\n"
     ]
    },
    {
     "name": "stdout",
     "output_type": "stream",
     "text": [
      "Epoch 29 için ortalama eğitim kaybı: 0.0781\n"
     ]
    },
    {
     "name": "stderr",
     "output_type": "stream",
     "text": [
      "Doğrulama: 100%|██████████| 63/63 [00:38<00:00,  1.65it/s]\n"
     ]
    },
    {
     "name": "stdout",
     "output_type": "stream",
     "text": [
      "En iyi metrik kaydedildi!\n",
      "Epoch 29 Ortalama Doğrulama Kaybı: 0.0728 | Doğruluk: 0.8295\n",
      "En iyi metrik şu ana kadar: 0.8295 (epoch 29)\n",
      "--------------------\n",
      "Epoch 30/50\n"
     ]
    },
    {
     "name": "stderr",
     "output_type": "stream",
     "text": [
      "Eğitim: 100%|██████████| 291/291 [01:19<00:00,  3.65it/s]\n"
     ]
    },
    {
     "name": "stdout",
     "output_type": "stream",
     "text": [
      "Epoch 30 için ortalama eğitim kaybı: 0.0759\n"
     ]
    },
    {
     "name": "stderr",
     "output_type": "stream",
     "text": [
      "Doğrulama: 100%|██████████| 63/63 [00:23<00:00,  2.73it/s]\n"
     ]
    },
    {
     "name": "stdout",
     "output_type": "stream",
     "text": [
      "Epoch 30 Ortalama Doğrulama Kaybı: 0.0727 | Doğruluk: 0.8154\n",
      "En iyi metrik şu ana kadar: 0.8295 (epoch 29)\n",
      "--------------------\n",
      "Epoch 31/50\n"
     ]
    },
    {
     "name": "stderr",
     "output_type": "stream",
     "text": [
      "Eğitim: 100%|██████████| 291/291 [01:18<00:00,  3.73it/s]\n"
     ]
    },
    {
     "name": "stdout",
     "output_type": "stream",
     "text": [
      "Epoch 31 için ortalama eğitim kaybı: 0.0780\n"
     ]
    },
    {
     "name": "stderr",
     "output_type": "stream",
     "text": [
      "Doğrulama: 100%|██████████| 63/63 [00:23<00:00,  2.73it/s]\n"
     ]
    },
    {
     "name": "stdout",
     "output_type": "stream",
     "text": [
      "En iyi metrik kaydedildi!\n",
      "Epoch 31 Ortalama Doğrulama Kaybı: 0.0726 | Doğruluk: 0.8335\n",
      "En iyi metrik şu ana kadar: 0.8335 (epoch 31)\n",
      "--------------------\n",
      "Epoch 32/50\n"
     ]
    },
    {
     "name": "stderr",
     "output_type": "stream",
     "text": [
      "Eğitim: 100%|██████████| 291/291 [01:18<00:00,  3.73it/s]\n"
     ]
    },
    {
     "name": "stdout",
     "output_type": "stream",
     "text": [
      "Epoch 32 için ortalama eğitim kaybı: 0.0769\n"
     ]
    },
    {
     "name": "stderr",
     "output_type": "stream",
     "text": [
      "Doğrulama: 100%|██████████| 63/63 [00:23<00:00,  2.73it/s]\n"
     ]
    },
    {
     "name": "stdout",
     "output_type": "stream",
     "text": [
      "Epoch 32 Ortalama Doğrulama Kaybı: 0.0736 | Doğruluk: 0.8164\n",
      "En iyi metrik şu ana kadar: 0.8335 (epoch 31)\n",
      "--------------------\n",
      "Epoch 33/50\n"
     ]
    },
    {
     "name": "stderr",
     "output_type": "stream",
     "text": [
      "Eğitim: 100%|██████████| 291/291 [01:18<00:00,  3.69it/s]\n"
     ]
    },
    {
     "name": "stdout",
     "output_type": "stream",
     "text": [
      "Epoch 33 için ortalama eğitim kaybı: 0.0767\n"
     ]
    },
    {
     "name": "stderr",
     "output_type": "stream",
     "text": [
      "Doğrulama: 100%|██████████| 63/63 [00:24<00:00,  2.55it/s]\n"
     ]
    },
    {
     "name": "stdout",
     "output_type": "stream",
     "text": [
      "Epoch 33 Ortalama Doğrulama Kaybı: 0.0724 | Doğruluk: 0.8185\n",
      "En iyi metrik şu ana kadar: 0.8335 (epoch 31)\n",
      "--------------------\n",
      "Epoch 34/50\n"
     ]
    },
    {
     "name": "stderr",
     "output_type": "stream",
     "text": [
      "Eğitim: 100%|██████████| 291/291 [01:20<00:00,  3.64it/s]\n"
     ]
    },
    {
     "name": "stdout",
     "output_type": "stream",
     "text": [
      "Epoch 34 için ortalama eğitim kaybı: 0.0768\n"
     ]
    },
    {
     "name": "stderr",
     "output_type": "stream",
     "text": [
      "Doğrulama: 100%|██████████| 63/63 [00:25<00:00,  2.51it/s]\n"
     ]
    },
    {
     "name": "stdout",
     "output_type": "stream",
     "text": [
      "Epoch 34 Ortalama Doğrulama Kaybı: 0.0713 | Doğruluk: 0.8235\n",
      "En iyi metrik şu ana kadar: 0.8335 (epoch 31)\n",
      "--------------------\n",
      "Epoch 35/50\n"
     ]
    },
    {
     "name": "stderr",
     "output_type": "stream",
     "text": [
      "Eğitim: 100%|██████████| 291/291 [01:19<00:00,  3.68it/s]\n"
     ]
    },
    {
     "name": "stdout",
     "output_type": "stream",
     "text": [
      "Epoch 35 için ortalama eğitim kaybı: 0.0752\n"
     ]
    },
    {
     "name": "stderr",
     "output_type": "stream",
     "text": [
      "Doğrulama: 100%|██████████| 63/63 [00:24<00:00,  2.54it/s]\n"
     ]
    },
    {
     "name": "stdout",
     "output_type": "stream",
     "text": [
      "Epoch 35 Ortalama Doğrulama Kaybı: 0.0722 | Doğruluk: 0.8285\n",
      "En iyi metrik şu ana kadar: 0.8335 (epoch 31)\n",
      "--------------------\n",
      "Epoch 36/50\n"
     ]
    },
    {
     "name": "stderr",
     "output_type": "stream",
     "text": [
      "Eğitim: 100%|██████████| 291/291 [01:19<00:00,  3.65it/s]\n"
     ]
    },
    {
     "name": "stdout",
     "output_type": "stream",
     "text": [
      "Epoch 36 için ortalama eğitim kaybı: 0.0759\n"
     ]
    },
    {
     "name": "stderr",
     "output_type": "stream",
     "text": [
      "Doğrulama: 100%|██████████| 63/63 [00:27<00:00,  2.33it/s]\n"
     ]
    },
    {
     "name": "stdout",
     "output_type": "stream",
     "text": [
      "Epoch 36 Ortalama Doğrulama Kaybı: 0.0706 | Doğruluk: 0.8315\n",
      "En iyi metrik şu ana kadar: 0.8335 (epoch 31)\n",
      "--------------------\n",
      "Epoch 37/50\n"
     ]
    },
    {
     "name": "stderr",
     "output_type": "stream",
     "text": [
      "Eğitim: 100%|██████████| 291/291 [01:21<00:00,  3.59it/s]\n"
     ]
    },
    {
     "name": "stdout",
     "output_type": "stream",
     "text": [
      "Epoch 37 için ortalama eğitim kaybı: 0.0756\n"
     ]
    },
    {
     "name": "stderr",
     "output_type": "stream",
     "text": [
      "Doğrulama: 100%|██████████| 63/63 [00:26<00:00,  2.36it/s]\n"
     ]
    },
    {
     "name": "stdout",
     "output_type": "stream",
     "text": [
      "Epoch 37 Ortalama Doğrulama Kaybı: 0.0720 | Doğruluk: 0.8225\n",
      "En iyi metrik şu ana kadar: 0.8335 (epoch 31)\n",
      "--------------------\n",
      "Epoch 38/50\n"
     ]
    },
    {
     "name": "stderr",
     "output_type": "stream",
     "text": [
      "Eğitim: 100%|██████████| 291/291 [01:18<00:00,  3.69it/s]\n"
     ]
    },
    {
     "name": "stdout",
     "output_type": "stream",
     "text": [
      "Epoch 38 için ortalama eğitim kaybı: 0.0743\n"
     ]
    },
    {
     "name": "stderr",
     "output_type": "stream",
     "text": [
      "Doğrulama: 100%|██████████| 63/63 [00:26<00:00,  2.34it/s]\n"
     ]
    },
    {
     "name": "stdout",
     "output_type": "stream",
     "text": [
      "Epoch 38 Ortalama Doğrulama Kaybı: 0.0704 | Doğruluk: 0.8275\n",
      "En iyi metrik şu ana kadar: 0.8335 (epoch 31)\n",
      "--------------------\n",
      "Epoch 39/50\n"
     ]
    },
    {
     "name": "stderr",
     "output_type": "stream",
     "text": [
      "Eğitim: 100%|██████████| 291/291 [01:19<00:00,  3.64it/s]\n"
     ]
    },
    {
     "name": "stdout",
     "output_type": "stream",
     "text": [
      "Epoch 39 için ortalama eğitim kaybı: 0.0749\n"
     ]
    },
    {
     "name": "stderr",
     "output_type": "stream",
     "text": [
      "Doğrulama: 100%|██████████| 63/63 [00:26<00:00,  2.34it/s]\n"
     ]
    },
    {
     "name": "stdout",
     "output_type": "stream",
     "text": [
      "Epoch 39 Ortalama Doğrulama Kaybı: 0.0706 | Doğruluk: 0.8295\n",
      "En iyi metrik şu ana kadar: 0.8335 (epoch 31)\n",
      "--------------------\n",
      "Epoch 40/50\n"
     ]
    },
    {
     "name": "stderr",
     "output_type": "stream",
     "text": [
      "Eğitim: 100%|██████████| 291/291 [01:20<00:00,  3.61it/s]\n"
     ]
    },
    {
     "name": "stdout",
     "output_type": "stream",
     "text": [
      "Epoch 40 için ortalama eğitim kaybı: 0.0747\n"
     ]
    },
    {
     "name": "stderr",
     "output_type": "stream",
     "text": [
      "Doğrulama: 100%|██████████| 63/63 [00:24<00:00,  2.53it/s]\n"
     ]
    },
    {
     "name": "stdout",
     "output_type": "stream",
     "text": [
      "En iyi metrik kaydedildi!\n",
      "Epoch 40 Ortalama Doğrulama Kaybı: 0.0696 | Doğruluk: 0.8385\n",
      "En iyi metrik şu ana kadar: 0.8385 (epoch 40)\n",
      "--------------------\n",
      "Epoch 41/50\n"
     ]
    },
    {
     "name": "stderr",
     "output_type": "stream",
     "text": [
      "Eğitim: 100%|██████████| 291/291 [01:19<00:00,  3.68it/s]\n"
     ]
    },
    {
     "name": "stdout",
     "output_type": "stream",
     "text": [
      "Epoch 41 için ortalama eğitim kaybı: 0.0747\n"
     ]
    },
    {
     "name": "stderr",
     "output_type": "stream",
     "text": [
      "Doğrulama: 100%|██████████| 63/63 [00:24<00:00,  2.55it/s]\n"
     ]
    },
    {
     "name": "stdout",
     "output_type": "stream",
     "text": [
      "Epoch 41 Ortalama Doğrulama Kaybı: 0.0697 | Doğruluk: 0.8335\n",
      "En iyi metrik şu ana kadar: 0.8385 (epoch 40)\n",
      "--------------------\n",
      "Epoch 42/50\n"
     ]
    },
    {
     "name": "stderr",
     "output_type": "stream",
     "text": [
      "Eğitim: 100%|██████████| 291/291 [01:19<00:00,  3.67it/s]\n"
     ]
    },
    {
     "name": "stdout",
     "output_type": "stream",
     "text": [
      "Epoch 42 için ortalama eğitim kaybı: 0.0745\n"
     ]
    },
    {
     "name": "stderr",
     "output_type": "stream",
     "text": [
      "Doğrulama: 100%|██████████| 63/63 [00:24<00:00,  2.54it/s]\n"
     ]
    },
    {
     "name": "stdout",
     "output_type": "stream",
     "text": [
      "Epoch 42 Ortalama Doğrulama Kaybı: 0.0686 | Doğruluk: 0.8235\n",
      "En iyi metrik şu ana kadar: 0.8385 (epoch 40)\n",
      "--------------------\n",
      "Epoch 43/50\n"
     ]
    },
    {
     "name": "stderr",
     "output_type": "stream",
     "text": [
      "Eğitim: 100%|██████████| 291/291 [01:19<00:00,  3.64it/s]\n"
     ]
    },
    {
     "name": "stdout",
     "output_type": "stream",
     "text": [
      "Epoch 43 için ortalama eğitim kaybı: 0.0736\n"
     ]
    },
    {
     "name": "stderr",
     "output_type": "stream",
     "text": [
      "Doğrulama: 100%|██████████| 63/63 [00:26<00:00,  2.36it/s]\n"
     ]
    },
    {
     "name": "stdout",
     "output_type": "stream",
     "text": [
      "En iyi metrik kaydedildi!\n",
      "Epoch 43 Ortalama Doğrulama Kaybı: 0.0689 | Doğruluk: 0.8395\n",
      "En iyi metrik şu ana kadar: 0.8395 (epoch 43)\n",
      "--------------------\n",
      "Epoch 44/50\n"
     ]
    },
    {
     "name": "stderr",
     "output_type": "stream",
     "text": [
      "Eğitim: 100%|██████████| 291/291 [01:21<00:00,  3.58it/s]\n"
     ]
    },
    {
     "name": "stdout",
     "output_type": "stream",
     "text": [
      "Epoch 44 için ortalama eğitim kaybı: 0.0735\n"
     ]
    },
    {
     "name": "stderr",
     "output_type": "stream",
     "text": [
      "Doğrulama: 100%|██████████| 63/63 [00:25<00:00,  2.45it/s]\n"
     ]
    },
    {
     "name": "stdout",
     "output_type": "stream",
     "text": [
      "Epoch 44 Ortalama Doğrulama Kaybı: 0.0684 | Doğruluk: 0.8305\n",
      "En iyi metrik şu ana kadar: 0.8395 (epoch 43)\n",
      "--------------------\n",
      "Epoch 45/50\n"
     ]
    },
    {
     "name": "stderr",
     "output_type": "stream",
     "text": [
      "Eğitim: 100%|██████████| 291/291 [01:19<00:00,  3.67it/s]\n"
     ]
    },
    {
     "name": "stdout",
     "output_type": "stream",
     "text": [
      "Epoch 45 için ortalama eğitim kaybı: 0.0731\n"
     ]
    },
    {
     "name": "stderr",
     "output_type": "stream",
     "text": [
      "Doğrulama: 100%|██████████| 63/63 [00:24<00:00,  2.53it/s]\n"
     ]
    },
    {
     "name": "stdout",
     "output_type": "stream",
     "text": [
      "Epoch 45 Ortalama Doğrulama Kaybı: 0.0682 | Doğruluk: 0.8335\n",
      "En iyi metrik şu ana kadar: 0.8395 (epoch 43)\n",
      "--------------------\n",
      "Epoch 46/50\n"
     ]
    },
    {
     "name": "stderr",
     "output_type": "stream",
     "text": [
      "Eğitim: 100%|██████████| 291/291 [01:30<00:00,  3.23it/s]\n"
     ]
    },
    {
     "name": "stdout",
     "output_type": "stream",
     "text": [
      "Epoch 46 için ortalama eğitim kaybı: 0.0733\n"
     ]
    },
    {
     "name": "stderr",
     "output_type": "stream",
     "text": [
      "Doğrulama: 100%|██████████| 63/63 [00:26<00:00,  2.34it/s]\n"
     ]
    },
    {
     "name": "stdout",
     "output_type": "stream",
     "text": [
      "Epoch 46 Ortalama Doğrulama Kaybı: 0.0681 | Doğruluk: 0.8365\n",
      "En iyi metrik şu ana kadar: 0.8395 (epoch 43)\n",
      "--------------------\n",
      "Epoch 47/50\n"
     ]
    },
    {
     "name": "stderr",
     "output_type": "stream",
     "text": [
      "Eğitim: 100%|██████████| 291/291 [01:23<00:00,  3.48it/s]\n"
     ]
    },
    {
     "name": "stdout",
     "output_type": "stream",
     "text": [
      "Epoch 47 için ortalama eğitim kaybı: 0.0718\n"
     ]
    },
    {
     "name": "stderr",
     "output_type": "stream",
     "text": [
      "Doğrulama: 100%|██████████| 63/63 [00:24<00:00,  2.55it/s]\n"
     ]
    },
    {
     "name": "stdout",
     "output_type": "stream",
     "text": [
      "Epoch 47 Ortalama Doğrulama Kaybı: 0.0693 | Doğruluk: 0.8345\n",
      "En iyi metrik şu ana kadar: 0.8395 (epoch 43)\n",
      "--------------------\n",
      "Epoch 48/50\n"
     ]
    },
    {
     "name": "stderr",
     "output_type": "stream",
     "text": [
      "Eğitim: 100%|██████████| 291/291 [01:23<00:00,  3.49it/s]\n"
     ]
    },
    {
     "name": "stdout",
     "output_type": "stream",
     "text": [
      "Epoch 48 için ortalama eğitim kaybı: 0.0719\n"
     ]
    },
    {
     "name": "stderr",
     "output_type": "stream",
     "text": [
      "Doğrulama: 100%|██████████| 63/63 [00:25<00:00,  2.47it/s]\n"
     ]
    },
    {
     "name": "stdout",
     "output_type": "stream",
     "text": [
      "Epoch 48 Ortalama Doğrulama Kaybı: 0.0683 | Doğruluk: 0.8335\n",
      "En iyi metrik şu ana kadar: 0.8395 (epoch 43)\n",
      "--------------------\n",
      "Epoch 49/50\n"
     ]
    },
    {
     "name": "stderr",
     "output_type": "stream",
     "text": [
      "Eğitim: 100%|██████████| 291/291 [01:23<00:00,  3.49it/s]\n"
     ]
    },
    {
     "name": "stdout",
     "output_type": "stream",
     "text": [
      "Epoch 49 için ortalama eğitim kaybı: 0.0712\n"
     ]
    },
    {
     "name": "stderr",
     "output_type": "stream",
     "text": [
      "Doğrulama: 100%|██████████| 63/63 [00:24<00:00,  2.61it/s]\n"
     ]
    },
    {
     "name": "stdout",
     "output_type": "stream",
     "text": [
      "Epoch 49 Ortalama Doğrulama Kaybı: 0.0671 | Doğruluk: 0.8335\n",
      "En iyi metrik şu ana kadar: 0.8395 (epoch 43)\n",
      "--------------------\n",
      "Epoch 50/50\n"
     ]
    },
    {
     "name": "stderr",
     "output_type": "stream",
     "text": [
      "Eğitim: 100%|██████████| 291/291 [01:27<00:00,  3.33it/s]\n"
     ]
    },
    {
     "name": "stdout",
     "output_type": "stream",
     "text": [
      "Epoch 50 için ortalama eğitim kaybı: 0.0710\n"
     ]
    },
    {
     "name": "stderr",
     "output_type": "stream",
     "text": [
      "Doğrulama: 100%|██████████| 63/63 [00:24<00:00,  2.54it/s]"
     ]
    },
    {
     "name": "stdout",
     "output_type": "stream",
     "text": [
      "Epoch 50 Ortalama Doğrulama Kaybı: 0.0662 | Doğruluk: 0.8305\n",
      "En iyi metrik şu ana kadar: 0.8395 (epoch 43)\n",
      "\n",
      "Eğitim tamamlandı. En iyi model 'best_model_improved.pth' olarak kaydedildi.\n"
     ]
    },
    {
     "name": "stderr",
     "output_type": "stream",
     "text": [
      "\n"
     ]
    }
   ],
   "source": [
    "for epoch in range(max_epochs):\n",
    "    print(\"-\" * 20)\n",
    "    print(f\"Epoch {epoch + 1}/{max_epochs}\")\n",
    "\n",
    "    model.train()\n",
    "    epoch_loss = 0.0\n",
    "    step = 0\n",
    "\n",
    "    for batch_data in tqdm(train_loader, desc=\"Eğitim\"):\n",
    "        step += 1\n",
    "        inputs, labels = batch_data[\"image\"].to(device), batch_data[\"label\"].to(device)\n",
    "\n",
    "        optimizer.zero_grad()\n",
    "        outputs = model(inputs)\n",
    "        loss = loss_function(outputs, labels)\n",
    "        loss.backward()\n",
    "        optimizer.step()\n",
    "\n",
    "        epoch_loss += loss.item()\n",
    "    \n",
    "    epoch_loss /= step\n",
    "    epoch_loss_values.append(epoch_loss)\n",
    "    print(f\"Epoch {epoch + 1} için ortalama eğitim kaybı: {epoch_loss:.4f}\")\n",
    "\n",
    "    if (epoch + 1) % val_interval == 0:\n",
    "        model.eval()\n",
    "        \n",
    "        val_epoch_loss = 0\n",
    "        val_step = 0\n",
    "        \n",
    "        correct_predictions = 0\n",
    "        total_samples = 0\n",
    "\n",
    "        with torch.no_grad():\n",
    "            for val_batch in tqdm(val_loader, desc=\"Doğrulama\"):\n",
    "                val_step += 1\n",
    "                val_images, val_labels = val_batch[\"image\"].to(device), val_batch[\"label\"].to(device)\n",
    "                val_outputs = model(val_images)\n",
    "                \n",
    "                loss = loss_function(val_outputs, val_labels)\n",
    "                val_epoch_loss += loss.item()\n",
    "\n",
    "                predicted_classes = torch.argmax(val_outputs, dim=1)\n",
    "                correct_predictions += (predicted_classes == val_labels).sum().item()\n",
    "                total_samples += val_labels.size(0)\n",
    "            \n",
    "            mean_val_accuracy = correct_predictions / total_samples\n",
    "            metric_values.append(mean_val_accuracy)\n",
    "            \n",
    "            val_epoch_loss /= val_step\n",
    "            val_loss_values.append(val_epoch_loss)\n",
    "\n",
    "            if mean_val_accuracy > best_metric:\n",
    "                best_metric = mean_val_accuracy\n",
    "                best_metric_epoch = epoch + 1\n",
    "                torch.save(model.state_dict(), \"best_resnet18_model.pth\")\n",
    "                print(\"En iyi metrik kaydedildi!\")\n",
    "\n",
    "            print(\n",
    "                f\"Epoch {epoch + 1} Ortalama Doğrulama Kaybı: {val_epoch_loss:.4f} \"\n",
    "                f\"| Doğruluk: {mean_val_accuracy:.4f}\"\n",
    "            )\n",
    "            print(\n",
    "                f\"En iyi metrik şu ana kadar: {best_metric:.4f} \"\n",
    "                f\"(epoch {best_metric_epoch})\")\n",
    "\n",
    "    scheduler.step(val_epoch_loss)\n",
    "\n",
    "\n",
    "print(f\"\\nEğitim tamamlandı. En iyi model 'best_resnet18_model.pth' olarak kaydedildi.\")"
   ]
  },
  {
   "cell_type": "code",
   "execution_count": 16,
   "id": "604c6781",
   "metadata": {},
   "outputs": [
    {
     "data": {
      "image/png": "[encoded data removed]",
      "text/plain": [
       "<Figure size 1200x600 with 2 Axes>"
      ]
     },
     "metadata": {},
     "output_type": "display_data"
    }
   ],
   "source": [
    "plt.figure(\"Eğitim ve Doğrulama Grafikleri\", figsize=(12, 6))\n",
    "\n",
    "# Eğitim ve Doğrulama Kayıp Grafiği\n",
    "plt.subplot(1, 2, 1)\n",
    "plt.title(\"Epoch Başına Kayıp Değeri\")\n",
    "plt.xlabel(\"Epoch\")\n",
    "plt.ylabel(\"Kayıp (Loss)\")\n",
    "plt.plot(range(1, max_epochs + 1), epoch_loss_values, color=\"blue\", label=\"Eğitim Kaybı\")\n",
    "plt.plot(range(1, max_epochs + 1), val_loss_values, color=\"red\", label=\"Doğrulama Kaybı\")\n",
    "plt.legend()\n",
    "plt.grid(True)\n",
    "\n",
    "# Doğrulama Doğruluk Grafiği\n",
    "plt.subplot(1, 2, 2)\n",
    "plt.title(\"Epoch Başına Doğruluk Değeri\")\n",
    "plt.xlabel(\"Epoch\")\n",
    "plt.ylabel(\"Doğruluk (Accuracy)\")\n",
    "plt.plot(range(1, max_epochs + 1), metric_values, color=\"green\", label=\"Doğrulama Doğruluğu\")\n",
    "plt.ylim([0, 1]) # Doğruluk 0 ile 1 arasındadır\n",
    "plt.legend()\n",
    "plt.grid(True)\n",
    "\n",
    "plt.tight_layout()\n",
    "plt.show()"
   ]
  },
  {
   "cell_type": "code",
   "execution_count": 17,
   "id": "189e0db2",
   "metadata": {},
   "outputs": [
    {
     "name": "stderr",
     "output_type": "stream",
     "text": [
      "C:\\Users\\omer_\\AppData\\Local\\Temp\\ipykernel_20264\\1969419798.py:5: FutureWarning: You are using `torch.load` with `weights_only=False` (the current default value), which uses the default pickle module implicitly. It is possible to construct malicious pickle data which will execute arbitrary code during unpickling (See https://github.com/pytorch/pytorch/blob/main/SECURITY.md#untrusted-models for more details). In a future release, the default value for `weights_only` will be flipped to `True`. This limits the functions that could be executed during unpickling. Arbitrary objects will no longer be allowed to be loaded via this mode unless they are explicitly allowlisted by the user via `torch.serialization.add_safe_globals`. We recommend you start setting `weights_only=True` for any use case where you don't have full control of the loaded file. Please open an issue on GitHub for any issues related to this experimental feature.\n",
      "  model.load_state_dict(torch.load(\"best_model.pth\"))\n",
      "Nihai Test: 100%|██████████| 63/63 [00:27<00:00,  2.31it/s]"
     ]
    },
    {
     "name": "stdout",
     "output_type": "stream",
     "text": [
      "\n",
      "==================================================\n",
      "             NİHAİ TEST SONUÇLARI (Classification Report)\n",
      "==================================================\n",
      "              precision    recall  f1-score   support\n",
      "\n",
      "    Bleeding       0.54      0.34      0.42       164\n",
      "    Ischemia       0.62      0.56      0.59       170\n",
      "      Normal       0.88      0.98      0.92       664\n",
      "\n",
      "    accuracy                           0.80       998\n",
      "   macro avg       0.68      0.63      0.64       998\n",
      "weighted avg       0.78      0.80      0.78       998\n",
      "\n",
      "\n",
      "==================================================\n",
      "                     Karışıklık Matrisi\n",
      "==================================================\n"
     ]
    },
    {
     "name": "stderr",
     "output_type": "stream",
     "text": [
      "\n"
     ]
    },
    {
     "data": {
      "image/png": "[encoded data removed]",
      "text/plain": [
       "<Figure size 800x600 with 2 Axes>"
      ]
     },
     "metadata": {},
     "output_type": "display_data"
    }
   ],
   "source": [
    "from sklearn.metrics import classification_report, confusion_matrix\n",
    "import seaborn as sns\n",
    "\n",
    "# En iyi modeli yükle\n",
    "model.load_state_dict(torch.load(\"best_model.pth\"))\n",
    "model.eval() # Değerlendirme moduna al\n",
    "\n",
    "y_true = []\n",
    "y_pred = []\n",
    "\n",
    "with torch.no_grad():\n",
    "    for test_data_batch in tqdm(test_loader, desc=\"Nihai Test\"):\n",
    "        test_images, test_labels = test_data_batch[\"image\"].to(device), test_data_batch[\"label\"].to(device)\n",
    "        \n",
    "        test_outputs = model(test_images)\n",
    "        \n",
    "        # Tahmin edilen sınıfı al (en yüksek skora sahip olan)\n",
    "        predicted_classes = torch.argmax(test_outputs, dim=1)\n",
    "        \n",
    "        y_pred.extend(predicted_classes.cpu().numpy())\n",
    "        y_true.extend(test_labels.cpu().numpy())\n",
    "\n",
    "print(\"\\n\" + \"=\"*50)\n",
    "print(\"             NİHAİ TEST SONUÇLARI (Classification Report)\")\n",
    "print(\"=\"*50)\n",
    "# Sınıflandırma Raporu: Precision, Recall, F1-Score\n",
    "print(classification_report(y_true, y_pred, target_names=TRAIN_CLASSES))\n",
    "\n",
    "\n",
    "# Karışıklık Matrisi (Confusion Matrix)\n",
    "print(\"\\n\" + \"=\"*50)\n",
    "print(\"                     Karışıklık Matrisi\")\n",
    "print(\"=\"*50)\n",
    "cm = confusion_matrix(y_true, y_pred)\n",
    "plt.figure(figsize=(8, 6))\n",
    "sns.heatmap(cm, annot=True, fmt='d', cmap='Blues', xticklabels=TRAIN_CLASSES, yticklabels=TRAIN_CLASSES)\n",
    "plt.xlabel(\"Tahmin Edilen Sınıf\")\n",
    "plt.ylabel(\"Gerçek Sınıf\")\n",
    "plt.title(\"Confusion Matrisi\")\n",
    "plt.show()"
   ]
  },
  {
   "cell_type": "markdown",
   "id": "e5297ec8",
   "metadata": {},
   "source": [
    "## Topolojik Özelliklere Giriş"
   ]
  },
  {
   "cell_type": "code",
   "execution_count": 1,
   "id": "3fc5d500",
   "metadata": {},
   "outputs": [
    {
     "name": "stdout",
     "output_type": "stream",
     "text": [
      "Giotto-tda pipeline'ı (v0.6.2 - CubicalPersistence) ile başarıyla tasarlandı.\n"
     ]
    }
   ],
   "source": [
    "import os\n",
    "import glob\n",
    "import numpy as np\n",
    "from tqdm import tqdm\n",
    "from PIL import Image\n",
    "import pydicom\n",
    "from sklearn.pipeline import Pipeline\n",
    "from gtda.homology import CubicalPersistence\n",
    "from gtda.diagrams import PersistenceImage\n",
    "import matplotlib.pyplot as plt\n",
    "\n",
    "DATA_DIR = r\"C:\\Users\\omer_\\Documents\\GitHub\\ytustats\\standard_u-net\\Brain_Stroke_CT_Dataset\"\n",
    "IMAGE_TYPE_FOLDER = 'DICOM' \n",
    "FILE_EXTENSION = '.dcm'\n",
    "# Karışmaması için yeni ve temiz bir klasör adı\n",
    "TDA_OUTPUT_DIR = \"./topological_features\" \n",
    "os.makedirs(TDA_OUTPUT_DIR, exist_ok=True)\n",
    "\n",
    "\n",
    "#PIPELINE\n",
    "cubical_persistence = CubicalPersistence(homology_dimensions=(0, 1), n_jobs=-1)\n",
    "persistence_image = PersistenceImage(n_bins=32, n_jobs=-1)\n",
    "tda_pipeline = Pipeline([\n",
    "    (\"cubical_persistence\", cubical_persistence),\n",
    "    (\"persistence_image\", persistence_image)\n",
    "])\n",
    "print(\"Giotto-tda pipeline'ı (v0.6.2 - CubicalPersistence) ile başarıyla tasarlandı.\")"
   ]
  },
  {
   "cell_type": "code",
   "execution_count": 2,
   "id": "e61a2898",
   "metadata": {},
   "outputs": [
    {
     "name": "stdout",
     "output_type": "stream",
     "text": [
      "\n",
      "İşlenmek üzere toplam 6850 adet görüntü dosyası bulundu.\n"
     ]
    }
   ],
   "source": [
    "all_image_files = []\n",
    "for folder in [\"Bleeding\", \"Ischemia\", \"Normal\"]:\n",
    "    class_dir = os.path.join(DATA_DIR, folder, IMAGE_TYPE_FOLDER)\n",
    "    files = glob.glob(os.path.join(class_dir, f'*{FILE_EXTENSION}'))\n",
    "    all_image_files.extend(files)\n",
    "external_test_dir = os.path.join(DATA_DIR, 'External_Test', IMAGE_TYPE_FOLDER)\n",
    "if os.path.isdir(external_test_dir):\n",
    "    all_image_files.extend(glob.glob(os.path.join(external_test_dir, f'*{FILE_EXTENSION}')))\n",
    "print(f\"\\nİşlenmek üzere toplam {len(all_image_files)} adet görüntü dosyası bulundu.\")"
   ]
  },
  {
   "cell_type": "code",
   "execution_count": 3,
   "id": "3dff5d34",
   "metadata": {},
   "outputs": [
    {
     "name": "stdout",
     "output_type": "stream",
     "text": [
      "\n",
      "Topolojik imzalar üretiliyor ve .npy olarak kaydediliyor...\n"
     ]
    },
    {
     "name": "stderr",
     "output_type": "stream",
     "text": [
      "Topolojik İmza Üretimi: 100%|██████████| 6850/6850 [8:31:26<00:00,  4.48s/it]  "
     ]
    },
    {
     "name": "stdout",
     "output_type": "stream",
     "text": [
      "\n",
      "İşlem tamamlandı!\n",
      "Tüm topolojik imzalar './topological_features' klasörüne kaydedildi.\n"
     ]
    },
    {
     "name": "stderr",
     "output_type": "stream",
     "text": [
      "\n"
     ]
    }
   ],
   "source": [
    "print(\"\\nTopolojik imzalar üretiliyor ve .npy olarak kaydediliyor...\")\n",
    "for file_path in tqdm(all_image_files, desc=\"Topolojik İmza Üretimi\"):\n",
    "    try:\n",
    "        # --- Görüntüyü Oku ve 2D Hale Getir ---\n",
    "        if FILE_EXTENSION == '.dcm':\n",
    "            image_array = pydicom.dcmread(file_path).pixel_array\n",
    "        else:\n",
    "            image_array = np.array(Image.open(file_path).convert(\"L\"))\n",
    "\n",
    "        if image_array.ndim == 3:\n",
    "            middle_slice_index = image_array.shape[0] // 2\n",
    "            final_image_2d = image_array[middle_slice_index, :, :]\n",
    "        elif image_array.ndim == 2:\n",
    "            final_image_2d = image_array\n",
    "        else:\n",
    "            continue\n",
    "        # CubicalPersistence, (n_samples, height, width) şeklinde 3D bir dizi bekler.\n",
    "        # Nokta bulutu, yeniden boyutlandırma, sahte RGB gibi adımlara GEREK YOKTUR.\n",
    "        image_for_gtda = final_image_2d[np.newaxis, :, :]\n",
    "        \n",
    "        persistence_images = tda_pipeline.fit_transform(image_for_gtda)\n",
    "        topological_feature = persistence_images[0]\n",
    "        \n",
    "        base_filename = os.path.basename(file_path)\n",
    "        filename_without_ext = os.path.splitext(base_filename)[0]\n",
    "        output_npy_path = os.path.join(TDA_OUTPUT_DIR, f\"{filename_without_ext}.npy\")\n",
    "        np.save(output_npy_path, topological_feature)\n",
    "\n",
    "    except Exception as e:\n",
    "        print(f\"\\nHATA: '{file_path}' dosyası işlenirken bir sorun oluştu.\")\n",
    "        print(f\"Hata mesajı: {e}\")\n",
    "        continue\n",
    "\n",
    "print(\"\\nİşlem tamamlandı!\")\n",
    "print(f\"Tüm topolojik imzalar '{TDA_OUTPUT_DIR}' klasörüne kaydedildi.\")"
   ]
  },
  {
   "cell_type": "markdown",
   "id": "89b886d3",
   "metadata": {},
   "source": [
    "## Hibrit Model "
   ]
  },
  {
   "cell_type": "code",
   "execution_count": 10,
   "id": "d7e02de4",
   "metadata": {},
   "outputs": [
    {
     "name": "stdout",
     "output_type": "stream",
     "text": [
      "Hibrit veri yükleyicileri başarıyla oluşturuldu.\n",
      "\n",
      "Bir batch hibrit veri kontrolü:\n",
      "Görüntü tensörünün boyutu: torch.Size([8, 1, 256, 256])\n",
      "TDA özellik tensörünün boyutu: torch.Size([8, 2, 32, 32])\n",
      "Etiket tensörünün boyutu: torch.Size([8])\n"
     ]
    }
   ],
   "source": [
    "import torch\n",
    "import numpy as np\n",
    "import os\n",
    "from monai.data import Dataset\n",
    "# --- DEĞİŞİKLİK BURADA: Artık MapLabel veya ToTensor'ı buradan import etmiyoruz ---\n",
    "# Onları asıl transform zincirinde (train_transforms) zaten import etmiştik.\n",
    "\n",
    "# Bu, bizim özel veri yükleyicimiz. MONAI'nin standart Dataset sınıfından miras alıyor.\n",
    "class HybridDataset(Dataset):\n",
    "    def __init__(self, image_files_and_labels, tda_dir, transform=None):\n",
    "        # ... (init kısmı aynı)\n",
    "        self.image_files_and_labels = image_files_and_labels\n",
    "        self.tda_dir = tda_dir\n",
    "        self.transform = transform\n",
    "    \n",
    "    def __len__(self):\n",
    "        # ... (len kısmı aynı)\n",
    "        return len(self.image_files_and_labels)\n",
    "\n",
    "    def __getitem__(self, index):\n",
    "        item_metadata = self.image_files_and_labels[index]\n",
    "        \n",
    "        if self.transform:\n",
    "            processed_item = self.transform(item_metadata)\n",
    "        else:\n",
    "            processed_item = item_metadata\n",
    "        \n",
    "        image_path = item_metadata['image']\n",
    "        base_filename = os.path.basename(image_path)\n",
    "        filename_without_ext = os.path.splitext(base_filename)[0]\n",
    "        npy_path = os.path.join(self.tda_dir, f\"{filename_without_ext}.npy\")\n",
    "        \n",
    "        if os.path.exists(npy_path):\n",
    "            tda_feature_raw = np.load(npy_path) # Şekli (2, 32, 32)\n",
    "            \n",
    "            # --- KRİTİK DEĞİŞİKLİK: İki homoloji boyutunu birleştiriyoruz ---\n",
    "            # İki adet (32, 32)'lik görüntüyü tek bir (2, 32, 32) tensör olarak ele alacağız.\n",
    "            # Artık (1, 32, 32) yerine (2, 32, 32) olacak.\n",
    "            processed_item['tda_feature'] = torch.from_numpy(tda_feature_raw).float()\n",
    "\n",
    "        else:\n",
    "            print(f\"UYARI: {npy_path} bulunamadı!\")\n",
    "            # Boyutun tutarlı olması için (2, 32, 32)'lik sıfır tensörü oluşturuyoruz\n",
    "            processed_item['tda_feature'] = torch.zeros((2, 32, 32), dtype=torch.float32)\n",
    "\n",
    "        return processed_item\n",
    "\n",
    "# --- Yeni DataLoader'ları Oluştur ---\n",
    "# .npy dosyalarının bulunduğu klasörün adını doğru yazdığınızdan emin olun\n",
    "TDA_DIR = \"./topological_features_cubical\" \n",
    "\n",
    "# 1. Faz'daki veri listelerimizi (train_data, val_data, test_data) ve \n",
    "# transformlarımızı (train_transforms, val_transforms) burada tekrar kullanıyoruz.\n",
    "\n",
    "# Hibrit Dataset'lerimizi oluşturalım\n",
    "hybrid_train_dataset = HybridDataset(train_data, TDA_DIR, transform=train_transforms)\n",
    "hybrid_val_dataset = HybridDataset(val_data, TDA_DIR, transform=val_transforms)\n",
    "hybrid_test_dataset = HybridDataset(test_data, TDA_DIR, transform=val_transforms)\n",
    "\n",
    "# Yeni Hibrit DataLoader'lar\n",
    "hybrid_train_loader = DataLoader(hybrid_train_dataset, batch_size=8, shuffle=True, num_workers=0)\n",
    "hybrid_val_loader = DataLoader(hybrid_val_dataset, batch_size=8, shuffle=False, num_workers=0)\n",
    "hybrid_test_loader = DataLoader(hybrid_test_dataset, batch_size=8, shuffle=False, num_workers=0)\n",
    "\n",
    "print(\"Hibrit veri yükleyicileri başarıyla oluşturuldu.\")\n",
    "check_batch = next(iter(hybrid_train_loader))\n",
    "print(\"\\nBir batch hibrit veri kontrolü:\")\n",
    "print(f\"Görüntü tensörünün boyutu: {check_batch['image'].shape}\")\n",
    "print(f\"TDA özellik tensörünün boyutu: {check_batch['tda_feature'].shape}\")\n",
    "print(f\"Etiket tensörünün boyutu: {check_batch['label'].shape}\")\n"
   ]
  },
  {
   "cell_type": "code",
   "execution_count": 11,
   "id": "cd1a1759",
   "metadata": {},
   "outputs": [
    {
     "name": "stdout",
     "output_type": "stream",
     "text": [
      "\n",
      "Hibrit modelin son ve en BASİT mimarisi başarıyla oluşturuldu.\n"
     ]
    }
   ],
   "source": [
    "# --- Adım 3.2: HİBRİT U-NET MİMARİSİ (EN BASİT VE SAĞLAM VERSİYON) ---\n",
    "import torch.nn as nn\n",
    "from monai.networks.nets import UNet\n",
    "\n",
    "class HybridUNet(nn.Module):\n",
    "    def __init__(self, in_channels, out_channels):\n",
    "        super().__init__()\n",
    "        \n",
    "        # 1. Görsel özellikler için U-Net'in tamamı.\n",
    "        # Çıktı kanalını küçük tutarak bellek kullanımını kontrol ediyoruz.\n",
    "        self.unet = UNet(\n",
    "            spatial_dims=2, in_channels=in_channels, out_channels=32, # Çıktı kanalı 32\n",
    "            channels=(16, 32, 64, 128, 256), strides=(2, 2, 2, 2),\n",
    "            num_res_units=2\n",
    "        )\n",
    "        \n",
    "        # 2. TDA Özelliklerini işleyecek küçük bir ağ (MLP).\n",
    "        # Girdi: (batch, 2, 32, 32). Çıktı: (batch, 128)\n",
    "        self.tda_processor = nn.Sequential(\n",
    "            nn.Flatten(),\n",
    "            nn.Linear(2 * 32 * 32, 512), # 2048 -> 512\n",
    "            nn.LeakyReLU(0.2, inplace=True),\n",
    "            nn.Linear(512, 128) # 512 -> 128\n",
    "        )\n",
    "        \n",
    "        # 3. U-Net ve TDA çıktısını birleştiren son sınıflandırıcı\n",
    "        # U-Net çıktısı (düzleştirilmiş): 32 kanal * 256 * 256 = 2097152 (ÇOK BÜYÜK!)\n",
    "        # Bu yüzden bir havuzlama katmanı ekleyeceğiz.\n",
    "        self.pool = nn.AdaptiveAvgPool2d((1, 1))\n",
    "        \n",
    "        # U-Net'ten gelen özellik (32) + TDA'dan gelen özellik (128) = 160\n",
    "        self.final_classifier = nn.Sequential(\n",
    "            nn.Linear(32 + 128, 64),\n",
    "            nn.LeakyReLU(0.2, inplace=True),\n",
    "            nn.Dropout(0.5),\n",
    "            nn.Linear(64, out_channels)\n",
    "        )\n",
    "\n",
    "    def forward(self, image, tda_feature):\n",
    "        # 1. Görüntüyü U-Net'ten geçir -> (batch, 32, 256, 256)\n",
    "        image_features = self.unet(image)\n",
    "        \n",
    "        # 2. U-Net çıktısını havuzlayarak tek bir vektöre indirge -> (batch, 32)\n",
    "        pooled_image_features = self.pool(image_features)\n",
    "        flat_image_features = torch.flatten(pooled_image_features, 1)\n",
    "        \n",
    "        # 3. TDA özelliğini işle -> (batch, 128)\n",
    "        processed_tda_feature = self.tda_processor(tda_feature)\n",
    "        \n",
    "        # 4. İki düz vektörü birleştir -> (batch, 32 + 128 = 160)\n",
    "        combined_features = torch.cat([flat_image_features, processed_tda_feature], dim=1)\n",
    "        \n",
    "        # 5. Birleşik vektörü nihai sınıflandırıcıdan geçir\n",
    "        output = self.final_classifier(combined_features)\n",
    "        \n",
    "        return output\n",
    "\n",
    "# --- Modeli, Optimizer'ı ve Diğerlerini Tanımla ---\n",
    "device = torch.device(\"cuda\" if torch.cuda.is_available() else \"cpu\")\n",
    "hybrid_model = HybridUNet(in_channels=1, out_channels=3).to(device)\n",
    "\n",
    "# Optimizer için daha yüksek bir öğrenme oranıyla başlayalım\n",
    "optimizer = torch.optim.Adam(hybrid_model.parameters(), lr=1e-4)\n",
    "\n",
    "# Diğerleri aynı\n",
    "weights = torch.tensor([4.0, 4.0, 1.0], dtype=torch.float32).to(device)\n",
    "loss_function = nn.CrossEntropyLoss(weight=weights)\n",
    "scheduler = ReduceLROnPlateau(optimizer, mode='min', factor=0.1, patience=5)\n",
    "\n",
    "print(\"\\nHibrit modelin son ve en BASİT mimarisi başarıyla oluşturuldu.\")"
   ]
  },
  {
   "cell_type": "code",
   "execution_count": 12,
   "id": "a8577b49",
   "metadata": {},
   "outputs": [],
   "source": [
    "from tqdm import tqdm\n",
    "import matplotlib.pyplot as plt\n",
    "\n",
    "# --- HİBRİT EĞİTİM AYARLARI ---\n",
    "# Ayarların çoğu zaten bir önceki hücrede (model tanımı hücresi) yapıldı.\n",
    "# Burada sadece epoch ve metrik listelerini tanımlıyoruz.\n",
    "max_epochs = 50\n",
    "val_interval = 1\n",
    "best_metric = -1\n",
    "best_metric_epoch = -1\n",
    "epoch_loss_values = []\n",
    "val_loss_values = []\n",
    "metric_values = [] "
   ]
  },
  {
   "cell_type": "code",
   "execution_count": 13,
   "id": "3b96d726",
   "metadata": {},
   "outputs": [
    {
     "name": "stdout",
     "output_type": "stream",
     "text": [
      "--------------------\n",
      "Epoch 1/50\n"
     ]
    },
    {
     "name": "stderr",
     "output_type": "stream",
     "text": [
      "Hibrit Eğitim: 100%|██████████| 582/582 [03:50<00:00,  2.53it/s]\n"
     ]
    },
    {
     "name": "stdout",
     "output_type": "stream",
     "text": [
      "Epoch 1 Ortalama Eğitim Kaybı: 1.0934\n"
     ]
    },
    {
     "name": "stderr",
     "output_type": "stream",
     "text": [
      "Hibrit Doğrulama: 100%|██████████| 125/125 [00:40<00:00,  3.09it/s]\n"
     ]
    },
    {
     "name": "stdout",
     "output_type": "stream",
     "text": [
      "yeni en iyi hibrit metrik kaydedildi!\n",
      "Epoch 1 Ortalama Doğrulama Kaybı: 1.0771 | Doğruluk: 0.6690\n",
      "En iyi metrik şu ana kadar: 0.6690 (epoch 1)\n",
      "--------------------\n",
      "Epoch 2/50\n"
     ]
    },
    {
     "name": "stderr",
     "output_type": "stream",
     "text": [
      "Hibrit Eğitim: 100%|██████████| 582/582 [02:33<00:00,  3.79it/s]\n"
     ]
    },
    {
     "name": "stdout",
     "output_type": "stream",
     "text": [
      "Epoch 2 Ortalama Eğitim Kaybı: 1.0518\n"
     ]
    },
    {
     "name": "stderr",
     "output_type": "stream",
     "text": [
      "Hibrit Doğrulama: 100%|██████████| 125/125 [00:25<00:00,  4.83it/s]\n"
     ]
    },
    {
     "name": "stdout",
     "output_type": "stream",
     "text": [
      "Epoch 2 Ortalama Doğrulama Kaybı: 1.0141 | Doğruluk: 0.6489\n",
      "En iyi metrik şu ana kadar: 0.6690 (epoch 1)\n",
      "--------------------\n",
      "Epoch 3/50\n"
     ]
    },
    {
     "name": "stderr",
     "output_type": "stream",
     "text": [
      "Hibrit Eğitim: 100%|██████████| 582/582 [02:32<00:00,  3.81it/s]\n"
     ]
    },
    {
     "name": "stdout",
     "output_type": "stream",
     "text": [
      "Epoch 3 Ortalama Eğitim Kaybı: 1.0090\n"
     ]
    },
    {
     "name": "stderr",
     "output_type": "stream",
     "text": [
      "Hibrit Doğrulama: 100%|██████████| 125/125 [00:26<00:00,  4.79it/s]\n"
     ]
    },
    {
     "name": "stdout",
     "output_type": "stream",
     "text": [
      "Epoch 3 Ortalama Doğrulama Kaybı: 0.9852 | Doğruluk: 0.6098\n",
      "En iyi metrik şu ana kadar: 0.6690 (epoch 1)\n",
      "--------------------\n",
      "Epoch 4/50\n"
     ]
    },
    {
     "name": "stderr",
     "output_type": "stream",
     "text": [
      "Hibrit Eğitim: 100%|██████████| 582/582 [02:33<00:00,  3.79it/s]\n"
     ]
    },
    {
     "name": "stdout",
     "output_type": "stream",
     "text": [
      "Epoch 4 Ortalama Eğitim Kaybı: 0.9801\n"
     ]
    },
    {
     "name": "stderr",
     "output_type": "stream",
     "text": [
      "Hibrit Doğrulama: 100%|██████████| 125/125 [00:25<00:00,  4.84it/s]\n"
     ]
    },
    {
     "name": "stdout",
     "output_type": "stream",
     "text": [
      "Epoch 4 Ortalama Doğrulama Kaybı: 0.9561 | Doğruluk: 0.6058\n",
      "En iyi metrik şu ana kadar: 0.6690 (epoch 1)\n",
      "--------------------\n",
      "Epoch 5/50\n"
     ]
    },
    {
     "name": "stderr",
     "output_type": "stream",
     "text": [
      "Hibrit Eğitim: 100%|██████████| 582/582 [02:33<00:00,  3.78it/s]\n"
     ]
    },
    {
     "name": "stdout",
     "output_type": "stream",
     "text": [
      "Epoch 5 Ortalama Eğitim Kaybı: 0.9587\n"
     ]
    },
    {
     "name": "stderr",
     "output_type": "stream",
     "text": [
      "Hibrit Doğrulama: 100%|██████████| 125/125 [00:27<00:00,  4.61it/s]\n"
     ]
    },
    {
     "name": "stdout",
     "output_type": "stream",
     "text": [
      "Epoch 5 Ortalama Doğrulama Kaybı: 0.9223 | Doğruluk: 0.6319\n",
      "En iyi metrik şu ana kadar: 0.6690 (epoch 1)\n",
      "--------------------\n",
      "Epoch 6/50\n"
     ]
    },
    {
     "name": "stderr",
     "output_type": "stream",
     "text": [
      "Hibrit Eğitim: 100%|██████████| 582/582 [02:38<00:00,  3.67it/s]\n"
     ]
    },
    {
     "name": "stdout",
     "output_type": "stream",
     "text": [
      "Epoch 6 Ortalama Eğitim Kaybı: 0.9403\n"
     ]
    },
    {
     "name": "stderr",
     "output_type": "stream",
     "text": [
      "Hibrit Doğrulama: 100%|██████████| 125/125 [00:26<00:00,  4.68it/s]\n"
     ]
    },
    {
     "name": "stdout",
     "output_type": "stream",
     "text": [
      "yeni en iyi hibrit metrik kaydedildi!\n",
      "Epoch 6 Ortalama Doğrulama Kaybı: 0.8805 | Doğruluk: 0.6760\n",
      "En iyi metrik şu ana kadar: 0.6760 (epoch 6)\n",
      "--------------------\n",
      "Epoch 7/50\n"
     ]
    },
    {
     "name": "stderr",
     "output_type": "stream",
     "text": [
      "Hibrit Eğitim: 100%|██████████| 582/582 [02:38<00:00,  3.66it/s]\n"
     ]
    },
    {
     "name": "stdout",
     "output_type": "stream",
     "text": [
      "Epoch 7 Ortalama Eğitim Kaybı: 0.9200\n"
     ]
    },
    {
     "name": "stderr",
     "output_type": "stream",
     "text": [
      "Hibrit Doğrulama: 100%|██████████| 125/125 [00:26<00:00,  4.67it/s]\n"
     ]
    },
    {
     "name": "stdout",
     "output_type": "stream",
     "text": [
      "Epoch 7 Ortalama Doğrulama Kaybı: 0.8640 | Doğruluk: 0.6620\n",
      "En iyi metrik şu ana kadar: 0.6760 (epoch 6)\n",
      "--------------------\n",
      "Epoch 8/50\n"
     ]
    },
    {
     "name": "stderr",
     "output_type": "stream",
     "text": [
      "Hibrit Eğitim: 100%|██████████| 582/582 [02:38<00:00,  3.67it/s]\n"
     ]
    },
    {
     "name": "stdout",
     "output_type": "stream",
     "text": [
      "Epoch 8 Ortalama Eğitim Kaybı: 0.9041\n"
     ]
    },
    {
     "name": "stderr",
     "output_type": "stream",
     "text": [
      "Hibrit Doğrulama: 100%|██████████| 125/125 [00:26<00:00,  4.65it/s]\n"
     ]
    },
    {
     "name": "stdout",
     "output_type": "stream",
     "text": [
      "Epoch 8 Ortalama Doğrulama Kaybı: 0.8616 | Doğruluk: 0.6369\n",
      "En iyi metrik şu ana kadar: 0.6760 (epoch 6)\n",
      "--------------------\n",
      "Epoch 9/50\n"
     ]
    },
    {
     "name": "stderr",
     "output_type": "stream",
     "text": [
      "Hibrit Eğitim: 100%|██████████| 582/582 [02:38<00:00,  3.66it/s]\n"
     ]
    },
    {
     "name": "stdout",
     "output_type": "stream",
     "text": [
      "Epoch 9 Ortalama Eğitim Kaybı: 0.8929\n"
     ]
    },
    {
     "name": "stderr",
     "output_type": "stream",
     "text": [
      "Hibrit Doğrulama: 100%|██████████| 125/125 [00:26<00:00,  4.69it/s]\n"
     ]
    },
    {
     "name": "stdout",
     "output_type": "stream",
     "text": [
      "yeni en iyi hibrit metrik kaydedildi!\n",
      "Epoch 9 Ortalama Doğrulama Kaybı: 0.8378 | Doğruluk: 0.6810\n",
      "En iyi metrik şu ana kadar: 0.6810 (epoch 9)\n",
      "--------------------\n",
      "Epoch 10/50\n"
     ]
    },
    {
     "name": "stderr",
     "output_type": "stream",
     "text": [
      "Hibrit Eğitim: 100%|██████████| 582/582 [02:38<00:00,  3.66it/s]\n"
     ]
    },
    {
     "name": "stdout",
     "output_type": "stream",
     "text": [
      "Epoch 10 Ortalama Eğitim Kaybı: 0.8714\n"
     ]
    },
    {
     "name": "stderr",
     "output_type": "stream",
     "text": [
      "Hibrit Doğrulama: 100%|██████████| 125/125 [00:26<00:00,  4.66it/s]\n"
     ]
    },
    {
     "name": "stdout",
     "output_type": "stream",
     "text": [
      "yeni en iyi hibrit metrik kaydedildi!\n",
      "Epoch 10 Ortalama Doğrulama Kaybı: 0.8158 | Doğruluk: 0.6901\n",
      "En iyi metrik şu ana kadar: 0.6901 (epoch 10)\n",
      "--------------------\n",
      "Epoch 11/50\n"
     ]
    },
    {
     "name": "stderr",
     "output_type": "stream",
     "text": [
      "Hibrit Eğitim: 100%|██████████| 582/582 [02:37<00:00,  3.70it/s]\n"
     ]
    },
    {
     "name": "stdout",
     "output_type": "stream",
     "text": [
      "Epoch 11 Ortalama Eğitim Kaybı: 0.8529\n"
     ]
    },
    {
     "name": "stderr",
     "output_type": "stream",
     "text": [
      "Hibrit Doğrulama: 100%|██████████| 125/125 [00:26<00:00,  4.67it/s]\n"
     ]
    },
    {
     "name": "stdout",
     "output_type": "stream",
     "text": [
      "yeni en iyi hibrit metrik kaydedildi!\n",
      "Epoch 11 Ortalama Doğrulama Kaybı: 0.8019 | Doğruluk: 0.7121\n",
      "En iyi metrik şu ana kadar: 0.7121 (epoch 11)\n",
      "--------------------\n",
      "Epoch 12/50\n"
     ]
    },
    {
     "name": "stderr",
     "output_type": "stream",
     "text": [
      "Hibrit Eğitim: 100%|██████████| 582/582 [02:38<00:00,  3.68it/s]\n"
     ]
    },
    {
     "name": "stdout",
     "output_type": "stream",
     "text": [
      "Epoch 12 Ortalama Eğitim Kaybı: 0.8503\n"
     ]
    },
    {
     "name": "stderr",
     "output_type": "stream",
     "text": [
      "Hibrit Doğrulama: 100%|██████████| 125/125 [00:26<00:00,  4.73it/s]\n"
     ]
    },
    {
     "name": "stdout",
     "output_type": "stream",
     "text": [
      "Epoch 12 Ortalama Doğrulama Kaybı: 0.7841 | Doğruluk: 0.7091\n",
      "En iyi metrik şu ana kadar: 0.7121 (epoch 11)\n",
      "--------------------\n",
      "Epoch 13/50\n"
     ]
    },
    {
     "name": "stderr",
     "output_type": "stream",
     "text": [
      "Hibrit Eğitim: 100%|██████████| 582/582 [02:35<00:00,  3.75it/s]\n"
     ]
    },
    {
     "name": "stdout",
     "output_type": "stream",
     "text": [
      "Epoch 13 Ortalama Eğitim Kaybı: 0.8239\n"
     ]
    },
    {
     "name": "stderr",
     "output_type": "stream",
     "text": [
      "Hibrit Doğrulama: 100%|██████████| 125/125 [00:26<00:00,  4.80it/s]\n"
     ]
    },
    {
     "name": "stdout",
     "output_type": "stream",
     "text": [
      "yeni en iyi hibrit metrik kaydedildi!\n",
      "Epoch 13 Ortalama Doğrulama Kaybı: 0.7922 | Doğruluk: 0.7161\n",
      "En iyi metrik şu ana kadar: 0.7161 (epoch 13)\n",
      "--------------------\n",
      "Epoch 14/50\n"
     ]
    },
    {
     "name": "stderr",
     "output_type": "stream",
     "text": [
      "Hibrit Eğitim: 100%|██████████| 582/582 [02:34<00:00,  3.77it/s]\n"
     ]
    },
    {
     "name": "stdout",
     "output_type": "stream",
     "text": [
      "Epoch 14 Ortalama Eğitim Kaybı: 0.8164\n"
     ]
    },
    {
     "name": "stderr",
     "output_type": "stream",
     "text": [
      "Hibrit Doğrulama: 100%|██████████| 125/125 [00:25<00:00,  4.82it/s]\n"
     ]
    },
    {
     "name": "stdout",
     "output_type": "stream",
     "text": [
      "yeni en iyi hibrit metrik kaydedildi!\n",
      "Epoch 14 Ortalama Doğrulama Kaybı: 0.7574 | Doğruluk: 0.7292\n",
      "En iyi metrik şu ana kadar: 0.7292 (epoch 14)\n",
      "--------------------\n",
      "Epoch 15/50\n"
     ]
    },
    {
     "name": "stderr",
     "output_type": "stream",
     "text": [
      "Hibrit Eğitim: 100%|██████████| 582/582 [02:34<00:00,  3.77it/s]\n"
     ]
    },
    {
     "name": "stdout",
     "output_type": "stream",
     "text": [
      "Epoch 15 Ortalama Eğitim Kaybı: 0.8031\n"
     ]
    },
    {
     "name": "stderr",
     "output_type": "stream",
     "text": [
      "Hibrit Doğrulama: 100%|██████████| 125/125 [00:26<00:00,  4.81it/s]\n"
     ]
    },
    {
     "name": "stdout",
     "output_type": "stream",
     "text": [
      "yeni en iyi hibrit metrik kaydedildi!\n",
      "Epoch 15 Ortalama Doğrulama Kaybı: 0.8149 | Doğruluk: 0.7753\n",
      "En iyi metrik şu ana kadar: 0.7753 (epoch 15)\n",
      "--------------------\n",
      "Epoch 16/50\n"
     ]
    },
    {
     "name": "stderr",
     "output_type": "stream",
     "text": [
      "Hibrit Eğitim: 100%|██████████| 582/582 [02:34<00:00,  3.76it/s]\n"
     ]
    },
    {
     "name": "stdout",
     "output_type": "stream",
     "text": [
      "Epoch 16 Ortalama Eğitim Kaybı: 0.7992\n"
     ]
    },
    {
     "name": "stderr",
     "output_type": "stream",
     "text": [
      "Hibrit Doğrulama: 100%|██████████| 125/125 [00:25<00:00,  4.82it/s]\n"
     ]
    },
    {
     "name": "stdout",
     "output_type": "stream",
     "text": [
      "Epoch 16 Ortalama Doğrulama Kaybı: 0.7532 | Doğruluk: 0.7111\n",
      "En iyi metrik şu ana kadar: 0.7753 (epoch 15)\n",
      "--------------------\n",
      "Epoch 17/50\n"
     ]
    },
    {
     "name": "stderr",
     "output_type": "stream",
     "text": [
      "Hibrit Eğitim: 100%|██████████| 582/582 [02:34<00:00,  3.76it/s]\n"
     ]
    },
    {
     "name": "stdout",
     "output_type": "stream",
     "text": [
      "Epoch 17 Ortalama Eğitim Kaybı: 0.7855\n"
     ]
    },
    {
     "name": "stderr",
     "output_type": "stream",
     "text": [
      "Hibrit Doğrulama: 100%|██████████| 125/125 [00:26<00:00,  4.81it/s]\n"
     ]
    },
    {
     "name": "stdout",
     "output_type": "stream",
     "text": [
      "Epoch 17 Ortalama Doğrulama Kaybı: 0.7503 | Doğruluk: 0.7262\n",
      "En iyi metrik şu ana kadar: 0.7753 (epoch 15)\n",
      "--------------------\n",
      "Epoch 18/50\n"
     ]
    },
    {
     "name": "stderr",
     "output_type": "stream",
     "text": [
      "Hibrit Eğitim: 100%|██████████| 582/582 [02:34<00:00,  3.77it/s]\n"
     ]
    },
    {
     "name": "stdout",
     "output_type": "stream",
     "text": [
      "Epoch 18 Ortalama Eğitim Kaybı: 0.7505\n"
     ]
    },
    {
     "name": "stderr",
     "output_type": "stream",
     "text": [
      "Hibrit Doğrulama: 100%|██████████| 125/125 [00:25<00:00,  4.98it/s]\n"
     ]
    },
    {
     "name": "stdout",
     "output_type": "stream",
     "text": [
      "Epoch 18 Ortalama Doğrulama Kaybı: 0.7483 | Doğruluk: 0.7643\n",
      "En iyi metrik şu ana kadar: 0.7753 (epoch 15)\n",
      "--------------------\n",
      "Epoch 19/50\n"
     ]
    },
    {
     "name": "stderr",
     "output_type": "stream",
     "text": [
      "Hibrit Eğitim: 100%|██████████| 582/582 [02:28<00:00,  3.92it/s]\n"
     ]
    },
    {
     "name": "stdout",
     "output_type": "stream",
     "text": [
      "Epoch 19 Ortalama Eğitim Kaybı: 0.7400\n"
     ]
    },
    {
     "name": "stderr",
     "output_type": "stream",
     "text": [
      "Hibrit Doğrulama: 100%|██████████| 125/125 [00:24<00:00,  5.05it/s]\n"
     ]
    },
    {
     "name": "stdout",
     "output_type": "stream",
     "text": [
      "Epoch 19 Ortalama Doğrulama Kaybı: 0.7467 | Doğruluk: 0.7743\n",
      "En iyi metrik şu ana kadar: 0.7753 (epoch 15)\n",
      "--------------------\n",
      "Epoch 20/50\n"
     ]
    },
    {
     "name": "stderr",
     "output_type": "stream",
     "text": [
      "Hibrit Eğitim: 100%|██████████| 582/582 [02:28<00:00,  3.92it/s]\n"
     ]
    },
    {
     "name": "stdout",
     "output_type": "stream",
     "text": [
      "Epoch 20 Ortalama Eğitim Kaybı: 0.7329\n"
     ]
    },
    {
     "name": "stderr",
     "output_type": "stream",
     "text": [
      "Hibrit Doğrulama: 100%|██████████| 125/125 [00:24<00:00,  5.07it/s]\n"
     ]
    },
    {
     "name": "stdout",
     "output_type": "stream",
     "text": [
      "yeni en iyi hibrit metrik kaydedildi!\n",
      "Epoch 20 Ortalama Doğrulama Kaybı: 0.7000 | Doğruluk: 0.7773\n",
      "En iyi metrik şu ana kadar: 0.7773 (epoch 20)\n",
      "--------------------\n",
      "Epoch 21/50\n"
     ]
    },
    {
     "name": "stderr",
     "output_type": "stream",
     "text": [
      "Hibrit Eğitim: 100%|██████████| 582/582 [02:37<00:00,  3.70it/s]\n"
     ]
    },
    {
     "name": "stdout",
     "output_type": "stream",
     "text": [
      "Epoch 21 Ortalama Eğitim Kaybı: 0.7224\n"
     ]
    },
    {
     "name": "stderr",
     "output_type": "stream",
     "text": [
      "Hibrit Doğrulama: 100%|██████████| 125/125 [00:27<00:00,  4.48it/s]\n"
     ]
    },
    {
     "name": "stdout",
     "output_type": "stream",
     "text": [
      "yeni en iyi hibrit metrik kaydedildi!\n",
      "Epoch 21 Ortalama Doğrulama Kaybı: 0.7566 | Doğruluk: 0.7944\n",
      "En iyi metrik şu ana kadar: 0.7944 (epoch 21)\n",
      "--------------------\n",
      "Epoch 22/50\n"
     ]
    },
    {
     "name": "stderr",
     "output_type": "stream",
     "text": [
      "Hibrit Eğitim: 100%|██████████| 582/582 [02:34<00:00,  3.76it/s]\n"
     ]
    },
    {
     "name": "stdout",
     "output_type": "stream",
     "text": [
      "Epoch 22 Ortalama Eğitim Kaybı: 0.7232\n"
     ]
    },
    {
     "name": "stderr",
     "output_type": "stream",
     "text": [
      "Hibrit Doğrulama: 100%|██████████| 125/125 [00:25<00:00,  4.89it/s]\n"
     ]
    },
    {
     "name": "stdout",
     "output_type": "stream",
     "text": [
      "Epoch 22 Ortalama Doğrulama Kaybı: 0.6853 | Doğruluk: 0.7061\n",
      "En iyi metrik şu ana kadar: 0.7944 (epoch 21)\n",
      "--------------------\n",
      "Epoch 23/50\n"
     ]
    },
    {
     "name": "stderr",
     "output_type": "stream",
     "text": [
      "Hibrit Eğitim: 100%|██████████| 582/582 [02:28<00:00,  3.91it/s]\n"
     ]
    },
    {
     "name": "stdout",
     "output_type": "stream",
     "text": [
      "Epoch 23 Ortalama Eğitim Kaybı: 0.6887\n"
     ]
    },
    {
     "name": "stderr",
     "output_type": "stream",
     "text": [
      "Hibrit Doğrulama: 100%|██████████| 125/125 [00:24<00:00,  5.01it/s]\n"
     ]
    },
    {
     "name": "stdout",
     "output_type": "stream",
     "text": [
      "Epoch 23 Ortalama Doğrulama Kaybı: 0.6789 | Doğruluk: 0.7773\n",
      "En iyi metrik şu ana kadar: 0.7944 (epoch 21)\n",
      "--------------------\n",
      "Epoch 24/50\n"
     ]
    },
    {
     "name": "stderr",
     "output_type": "stream",
     "text": [
      "Hibrit Eğitim: 100%|██████████| 582/582 [02:29<00:00,  3.89it/s]\n"
     ]
    },
    {
     "name": "stdout",
     "output_type": "stream",
     "text": [
      "Epoch 24 Ortalama Eğitim Kaybı: 0.6830\n"
     ]
    },
    {
     "name": "stderr",
     "output_type": "stream",
     "text": [
      "Hibrit Doğrulama: 100%|██████████| 125/125 [00:26<00:00,  4.74it/s]\n"
     ]
    },
    {
     "name": "stdout",
     "output_type": "stream",
     "text": [
      "Epoch 24 Ortalama Doğrulama Kaybı: 0.6868 | Doğruluk: 0.7904\n",
      "En iyi metrik şu ana kadar: 0.7944 (epoch 21)\n",
      "--------------------\n",
      "Epoch 25/50\n"
     ]
    },
    {
     "name": "stderr",
     "output_type": "stream",
     "text": [
      "Hibrit Eğitim: 100%|██████████| 582/582 [02:33<00:00,  3.80it/s]\n"
     ]
    },
    {
     "name": "stdout",
     "output_type": "stream",
     "text": [
      "Epoch 25 Ortalama Eğitim Kaybı: 0.6842\n"
     ]
    },
    {
     "name": "stderr",
     "output_type": "stream",
     "text": [
      "Hibrit Doğrulama: 100%|██████████| 125/125 [00:26<00:00,  4.74it/s]\n"
     ]
    },
    {
     "name": "stdout",
     "output_type": "stream",
     "text": [
      "Epoch 25 Ortalama Doğrulama Kaybı: 0.6452 | Doğruluk: 0.7823\n",
      "En iyi metrik şu ana kadar: 0.7944 (epoch 21)\n",
      "--------------------\n",
      "Epoch 26/50\n"
     ]
    },
    {
     "name": "stderr",
     "output_type": "stream",
     "text": [
      "Hibrit Eğitim: 100%|██████████| 582/582 [02:33<00:00,  3.78it/s]\n"
     ]
    },
    {
     "name": "stdout",
     "output_type": "stream",
     "text": [
      "Epoch 26 Ortalama Eğitim Kaybı: 0.6603\n"
     ]
    },
    {
     "name": "stderr",
     "output_type": "stream",
     "text": [
      "Hibrit Doğrulama: 100%|██████████| 125/125 [00:25<00:00,  4.83it/s]\n"
     ]
    },
    {
     "name": "stdout",
     "output_type": "stream",
     "text": [
      "yeni en iyi hibrit metrik kaydedildi!\n",
      "Epoch 26 Ortalama Doğrulama Kaybı: 0.6458 | Doğruluk: 0.8094\n",
      "En iyi metrik şu ana kadar: 0.8094 (epoch 26)\n",
      "--------------------\n",
      "Epoch 27/50\n"
     ]
    },
    {
     "name": "stderr",
     "output_type": "stream",
     "text": [
      "Hibrit Eğitim: 100%|██████████| 582/582 [02:32<00:00,  3.81it/s]\n"
     ]
    },
    {
     "name": "stdout",
     "output_type": "stream",
     "text": [
      "Epoch 27 Ortalama Eğitim Kaybı: 0.6474\n"
     ]
    },
    {
     "name": "stderr",
     "output_type": "stream",
     "text": [
      "Hibrit Doğrulama: 100%|██████████| 125/125 [00:26<00:00,  4.76it/s]\n"
     ]
    },
    {
     "name": "stdout",
     "output_type": "stream",
     "text": [
      "Epoch 27 Ortalama Doğrulama Kaybı: 0.6469 | Doğruluk: 0.7844\n",
      "En iyi metrik şu ana kadar: 0.8094 (epoch 26)\n",
      "--------------------\n",
      "Epoch 28/50\n"
     ]
    },
    {
     "name": "stderr",
     "output_type": "stream",
     "text": [
      "Hibrit Eğitim: 100%|██████████| 582/582 [02:32<00:00,  3.81it/s]\n"
     ]
    },
    {
     "name": "stdout",
     "output_type": "stream",
     "text": [
      "Epoch 28 Ortalama Eğitim Kaybı: 0.6409\n"
     ]
    },
    {
     "name": "stderr",
     "output_type": "stream",
     "text": [
      "Hibrit Doğrulama: 100%|██████████| 125/125 [00:25<00:00,  4.83it/s]\n"
     ]
    },
    {
     "name": "stdout",
     "output_type": "stream",
     "text": [
      "Epoch 28 Ortalama Doğrulama Kaybı: 0.6573 | Doğruluk: 0.7352\n",
      "En iyi metrik şu ana kadar: 0.8094 (epoch 26)\n",
      "--------------------\n",
      "Epoch 29/50\n"
     ]
    },
    {
     "name": "stderr",
     "output_type": "stream",
     "text": [
      "Hibrit Eğitim: 100%|██████████| 582/582 [02:32<00:00,  3.81it/s]\n"
     ]
    },
    {
     "name": "stdout",
     "output_type": "stream",
     "text": [
      "Epoch 29 Ortalama Eğitim Kaybı: 0.6381\n"
     ]
    },
    {
     "name": "stderr",
     "output_type": "stream",
     "text": [
      "Hibrit Doğrulama: 100%|██████████| 125/125 [00:26<00:00,  4.78it/s]\n"
     ]
    },
    {
     "name": "stdout",
     "output_type": "stream",
     "text": [
      "Epoch 29 Ortalama Doğrulama Kaybı: 0.6522 | Doğruluk: 0.8054\n",
      "En iyi metrik şu ana kadar: 0.8094 (epoch 26)\n",
      "--------------------\n",
      "Epoch 30/50\n"
     ]
    },
    {
     "name": "stderr",
     "output_type": "stream",
     "text": [
      "Hibrit Eğitim: 100%|██████████| 582/582 [02:28<00:00,  3.91it/s]\n"
     ]
    },
    {
     "name": "stdout",
     "output_type": "stream",
     "text": [
      "Epoch 30 Ortalama Eğitim Kaybı: 0.6202\n"
     ]
    },
    {
     "name": "stderr",
     "output_type": "stream",
     "text": [
      "Hibrit Doğrulama: 100%|██████████| 125/125 [00:24<00:00,  5.06it/s]\n"
     ]
    },
    {
     "name": "stdout",
     "output_type": "stream",
     "text": [
      "Epoch 30 Ortalama Doğrulama Kaybı: 0.6278 | Doğruluk: 0.8024\n",
      "En iyi metrik şu ana kadar: 0.8094 (epoch 26)\n",
      "--------------------\n",
      "Epoch 31/50\n"
     ]
    },
    {
     "name": "stderr",
     "output_type": "stream",
     "text": [
      "Hibrit Eğitim: 100%|██████████| 582/582 [02:29<00:00,  3.89it/s]\n"
     ]
    },
    {
     "name": "stdout",
     "output_type": "stream",
     "text": [
      "Epoch 31 Ortalama Eğitim Kaybı: 0.5889\n"
     ]
    },
    {
     "name": "stderr",
     "output_type": "stream",
     "text": [
      "Hibrit Doğrulama: 100%|██████████| 125/125 [00:25<00:00,  4.82it/s]\n"
     ]
    },
    {
     "name": "stdout",
     "output_type": "stream",
     "text": [
      "Epoch 31 Ortalama Doğrulama Kaybı: 0.6658 | Doğruluk: 0.8094\n",
      "En iyi metrik şu ana kadar: 0.8094 (epoch 26)\n",
      "--------------------\n",
      "Epoch 32/50\n"
     ]
    },
    {
     "name": "stderr",
     "output_type": "stream",
     "text": [
      "Hibrit Eğitim: 100%|██████████| 582/582 [02:33<00:00,  3.80it/s]\n"
     ]
    },
    {
     "name": "stdout",
     "output_type": "stream",
     "text": [
      "Epoch 32 Ortalama Eğitim Kaybı: 0.6109\n"
     ]
    },
    {
     "name": "stderr",
     "output_type": "stream",
     "text": [
      "Hibrit Doğrulama: 100%|██████████| 125/125 [00:26<00:00,  4.76it/s]\n"
     ]
    },
    {
     "name": "stdout",
     "output_type": "stream",
     "text": [
      "yeni en iyi hibrit metrik kaydedildi!\n",
      "Epoch 32 Ortalama Doğrulama Kaybı: 0.6375 | Doğruluk: 0.8195\n",
      "En iyi metrik şu ana kadar: 0.8195 (epoch 32)\n",
      "--------------------\n",
      "Epoch 33/50\n"
     ]
    },
    {
     "name": "stderr",
     "output_type": "stream",
     "text": [
      "Hibrit Eğitim: 100%|██████████| 582/582 [02:33<00:00,  3.80it/s]\n"
     ]
    },
    {
     "name": "stdout",
     "output_type": "stream",
     "text": [
      "Epoch 33 Ortalama Eğitim Kaybı: 0.5870\n"
     ]
    },
    {
     "name": "stderr",
     "output_type": "stream",
     "text": [
      "Hibrit Doğrulama: 100%|██████████| 125/125 [00:26<00:00,  4.74it/s]\n"
     ]
    },
    {
     "name": "stdout",
     "output_type": "stream",
     "text": [
      "yeni en iyi hibrit metrik kaydedildi!\n",
      "Epoch 33 Ortalama Doğrulama Kaybı: 0.6931 | Doğruluk: 0.8215\n",
      "En iyi metrik şu ana kadar: 0.8215 (epoch 33)\n",
      "--------------------\n",
      "Epoch 34/50\n"
     ]
    },
    {
     "name": "stderr",
     "output_type": "stream",
     "text": [
      "Hibrit Eğitim: 100%|██████████| 582/582 [02:33<00:00,  3.79it/s]\n"
     ]
    },
    {
     "name": "stdout",
     "output_type": "stream",
     "text": [
      "Epoch 34 Ortalama Eğitim Kaybı: 0.5667\n"
     ]
    },
    {
     "name": "stderr",
     "output_type": "stream",
     "text": [
      "Hibrit Doğrulama: 100%|██████████| 125/125 [00:25<00:00,  4.82it/s]\n"
     ]
    },
    {
     "name": "stdout",
     "output_type": "stream",
     "text": [
      "Epoch 34 Ortalama Doğrulama Kaybı: 0.6390 | Doğruluk: 0.8104\n",
      "En iyi metrik şu ana kadar: 0.8215 (epoch 33)\n",
      "--------------------\n",
      "Epoch 35/50\n"
     ]
    },
    {
     "name": "stderr",
     "output_type": "stream",
     "text": [
      "Hibrit Eğitim: 100%|██████████| 582/582 [02:34<00:00,  3.77it/s]\n"
     ]
    },
    {
     "name": "stdout",
     "output_type": "stream",
     "text": [
      "Epoch 35 Ortalama Eğitim Kaybı: 0.5835\n"
     ]
    },
    {
     "name": "stderr",
     "output_type": "stream",
     "text": [
      "Hibrit Doğrulama: 100%|██████████| 125/125 [00:26<00:00,  4.66it/s]\n"
     ]
    },
    {
     "name": "stdout",
     "output_type": "stream",
     "text": [
      "Epoch 35 Ortalama Doğrulama Kaybı: 0.6231 | Doğruluk: 0.8144\n",
      "En iyi metrik şu ana kadar: 0.8215 (epoch 33)\n",
      "--------------------\n",
      "Epoch 36/50\n"
     ]
    },
    {
     "name": "stderr",
     "output_type": "stream",
     "text": [
      "Hibrit Eğitim: 100%|██████████| 582/582 [02:34<00:00,  3.78it/s]\n"
     ]
    },
    {
     "name": "stdout",
     "output_type": "stream",
     "text": [
      "Epoch 36 Ortalama Eğitim Kaybı: 0.5682\n"
     ]
    },
    {
     "name": "stderr",
     "output_type": "stream",
     "text": [
      "Hibrit Doğrulama: 100%|██████████| 125/125 [00:26<00:00,  4.75it/s]\n"
     ]
    },
    {
     "name": "stdout",
     "output_type": "stream",
     "text": [
      "yeni en iyi hibrit metrik kaydedildi!\n",
      "Epoch 36 Ortalama Doğrulama Kaybı: 0.6698 | Doğruluk: 0.8445\n",
      "En iyi metrik şu ana kadar: 0.8445 (epoch 36)\n",
      "--------------------\n",
      "Epoch 37/50\n"
     ]
    },
    {
     "name": "stderr",
     "output_type": "stream",
     "text": [
      "Hibrit Eğitim: 100%|██████████| 582/582 [02:33<00:00,  3.79it/s]\n"
     ]
    },
    {
     "name": "stdout",
     "output_type": "stream",
     "text": [
      "Epoch 37 Ortalama Eğitim Kaybı: 0.5581\n"
     ]
    },
    {
     "name": "stderr",
     "output_type": "stream",
     "text": [
      "Hibrit Doğrulama: 100%|██████████| 125/125 [00:26<00:00,  4.75it/s]\n"
     ]
    },
    {
     "name": "stdout",
     "output_type": "stream",
     "text": [
      "Epoch 37 Ortalama Doğrulama Kaybı: 0.5952 | Doğruluk: 0.8425\n",
      "En iyi metrik şu ana kadar: 0.8445 (epoch 36)\n",
      "--------------------\n",
      "Epoch 38/50\n"
     ]
    },
    {
     "name": "stderr",
     "output_type": "stream",
     "text": [
      "Hibrit Eğitim: 100%|██████████| 582/582 [02:33<00:00,  3.78it/s]\n"
     ]
    },
    {
     "name": "stdout",
     "output_type": "stream",
     "text": [
      "Epoch 38 Ortalama Eğitim Kaybı: 0.5450\n"
     ]
    },
    {
     "name": "stderr",
     "output_type": "stream",
     "text": [
      "Hibrit Doğrulama: 100%|██████████| 125/125 [00:26<00:00,  4.74it/s]\n"
     ]
    },
    {
     "name": "stdout",
     "output_type": "stream",
     "text": [
      "Epoch 38 Ortalama Doğrulama Kaybı: 0.5847 | Doğruluk: 0.8134\n",
      "En iyi metrik şu ana kadar: 0.8445 (epoch 36)\n",
      "--------------------\n",
      "Epoch 39/50\n"
     ]
    },
    {
     "name": "stderr",
     "output_type": "stream",
     "text": [
      "Hibrit Eğitim: 100%|██████████| 582/582 [02:33<00:00,  3.79it/s]\n"
     ]
    },
    {
     "name": "stdout",
     "output_type": "stream",
     "text": [
      "Epoch 39 Ortalama Eğitim Kaybı: 0.5434\n"
     ]
    },
    {
     "name": "stderr",
     "output_type": "stream",
     "text": [
      "Hibrit Doğrulama: 100%|██████████| 125/125 [00:26<00:00,  4.78it/s]\n"
     ]
    },
    {
     "name": "stdout",
     "output_type": "stream",
     "text": [
      "Epoch 39 Ortalama Doğrulama Kaybı: 0.5669 | Doğruluk: 0.8445\n",
      "En iyi metrik şu ana kadar: 0.8445 (epoch 36)\n",
      "--------------------\n",
      "Epoch 40/50\n"
     ]
    },
    {
     "name": "stderr",
     "output_type": "stream",
     "text": [
      "Hibrit Eğitim: 100%|██████████| 582/582 [02:33<00:00,  3.78it/s]\n"
     ]
    },
    {
     "name": "stdout",
     "output_type": "stream",
     "text": [
      "Epoch 40 Ortalama Eğitim Kaybı: 0.5316\n"
     ]
    },
    {
     "name": "stderr",
     "output_type": "stream",
     "text": [
      "Hibrit Doğrulama: 100%|██████████| 125/125 [00:26<00:00,  4.79it/s]\n"
     ]
    },
    {
     "name": "stdout",
     "output_type": "stream",
     "text": [
      "yeni en iyi hibrit metrik kaydedildi!\n",
      "Epoch 40 Ortalama Doğrulama Kaybı: 0.6681 | Doğruluk: 0.8576\n",
      "En iyi metrik şu ana kadar: 0.8576 (epoch 40)\n",
      "--------------------\n",
      "Epoch 41/50\n"
     ]
    },
    {
     "name": "stderr",
     "output_type": "stream",
     "text": [
      "Hibrit Eğitim: 100%|██████████| 582/582 [02:33<00:00,  3.80it/s]\n"
     ]
    },
    {
     "name": "stdout",
     "output_type": "stream",
     "text": [
      "Epoch 41 Ortalama Eğitim Kaybı: 0.5237\n"
     ]
    },
    {
     "name": "stderr",
     "output_type": "stream",
     "text": [
      "Hibrit Doğrulama: 100%|██████████| 125/125 [00:25<00:00,  5.00it/s]\n"
     ]
    },
    {
     "name": "stdout",
     "output_type": "stream",
     "text": [
      "Epoch 41 Ortalama Doğrulama Kaybı: 0.6746 | Doğruluk: 0.7813\n",
      "En iyi metrik şu ana kadar: 0.8576 (epoch 40)\n",
      "--------------------\n",
      "Epoch 42/50\n"
     ]
    },
    {
     "name": "stderr",
     "output_type": "stream",
     "text": [
      "Hibrit Eğitim: 100%|██████████| 582/582 [02:28<00:00,  3.92it/s]\n"
     ]
    },
    {
     "name": "stdout",
     "output_type": "stream",
     "text": [
      "Epoch 42 Ortalama Eğitim Kaybı: 0.5338\n"
     ]
    },
    {
     "name": "stderr",
     "output_type": "stream",
     "text": [
      "Hibrit Doğrulama: 100%|██████████| 125/125 [00:24<00:00,  5.03it/s]\n"
     ]
    },
    {
     "name": "stdout",
     "output_type": "stream",
     "text": [
      "Epoch 42 Ortalama Doğrulama Kaybı: 0.7775 | Doğruluk: 0.7222\n",
      "En iyi metrik şu ana kadar: 0.8576 (epoch 40)\n",
      "--------------------\n",
      "Epoch 43/50\n"
     ]
    },
    {
     "name": "stderr",
     "output_type": "stream",
     "text": [
      "Hibrit Eğitim: 100%|██████████| 582/582 [02:33<00:00,  3.79it/s]\n"
     ]
    },
    {
     "name": "stdout",
     "output_type": "stream",
     "text": [
      "Epoch 43 Ortalama Eğitim Kaybı: 0.5031\n"
     ]
    },
    {
     "name": "stderr",
     "output_type": "stream",
     "text": [
      "Hibrit Doğrulama: 100%|██████████| 125/125 [00:26<00:00,  4.75it/s]\n"
     ]
    },
    {
     "name": "stdout",
     "output_type": "stream",
     "text": [
      "yeni en iyi hibrit metrik kaydedildi!\n",
      "Epoch 43 Ortalama Doğrulama Kaybı: 0.6837 | Doğruluk: 0.8646\n",
      "En iyi metrik şu ana kadar: 0.8646 (epoch 43)\n",
      "--------------------\n",
      "Epoch 44/50\n"
     ]
    },
    {
     "name": "stderr",
     "output_type": "stream",
     "text": [
      "Hibrit Eğitim: 100%|██████████| 582/582 [02:33<00:00,  3.78it/s]\n"
     ]
    },
    {
     "name": "stdout",
     "output_type": "stream",
     "text": [
      "Epoch 44 Ortalama Eğitim Kaybı: 0.5117\n"
     ]
    },
    {
     "name": "stderr",
     "output_type": "stream",
     "text": [
      "Hibrit Doğrulama: 100%|██████████| 125/125 [00:25<00:00,  4.81it/s]\n"
     ]
    },
    {
     "name": "stdout",
     "output_type": "stream",
     "text": [
      "Epoch 44 Ortalama Doğrulama Kaybı: 0.6022 | Doğruluk: 0.8455\n",
      "En iyi metrik şu ana kadar: 0.8646 (epoch 43)\n",
      "--------------------\n",
      "Epoch 45/50\n"
     ]
    },
    {
     "name": "stderr",
     "output_type": "stream",
     "text": [
      "Hibrit Eğitim: 100%|██████████| 582/582 [02:34<00:00,  3.77it/s]\n"
     ]
    },
    {
     "name": "stdout",
     "output_type": "stream",
     "text": [
      "Epoch 45 Ortalama Eğitim Kaybı: 0.5209\n"
     ]
    },
    {
     "name": "stderr",
     "output_type": "stream",
     "text": [
      "Hibrit Doğrulama: 100%|██████████| 125/125 [00:26<00:00,  4.67it/s]\n"
     ]
    },
    {
     "name": "stdout",
     "output_type": "stream",
     "text": [
      "Epoch 45 Ortalama Doğrulama Kaybı: 0.7789 | Doğruluk: 0.8465\n",
      "En iyi metrik şu ana kadar: 0.8646 (epoch 43)\n",
      "--------------------\n",
      "Epoch 46/50\n"
     ]
    },
    {
     "name": "stderr",
     "output_type": "stream",
     "text": [
      "Hibrit Eğitim: 100%|██████████| 582/582 [02:34<00:00,  3.77it/s]\n"
     ]
    },
    {
     "name": "stdout",
     "output_type": "stream",
     "text": [
      "Epoch 46 Ortalama Eğitim Kaybı: 0.4441\n"
     ]
    },
    {
     "name": "stderr",
     "output_type": "stream",
     "text": [
      "Hibrit Doğrulama: 100%|██████████| 125/125 [00:26<00:00,  4.77it/s]\n"
     ]
    },
    {
     "name": "stdout",
     "output_type": "stream",
     "text": [
      "yeni en iyi hibrit metrik kaydedildi!\n",
      "Epoch 46 Ortalama Doğrulama Kaybı: 0.5310 | Doğruluk: 0.8706\n",
      "En iyi metrik şu ana kadar: 0.8706 (epoch 46)\n",
      "--------------------\n",
      "Epoch 47/50\n"
     ]
    },
    {
     "name": "stderr",
     "output_type": "stream",
     "text": [
      "Hibrit Eğitim: 100%|██████████| 582/582 [02:32<00:00,  3.80it/s]\n"
     ]
    },
    {
     "name": "stdout",
     "output_type": "stream",
     "text": [
      "Epoch 47 Ortalama Eğitim Kaybı: 0.3999\n"
     ]
    },
    {
     "name": "stderr",
     "output_type": "stream",
     "text": [
      "Hibrit Doğrulama: 100%|██████████| 125/125 [00:26<00:00,  4.79it/s]\n"
     ]
    },
    {
     "name": "stdout",
     "output_type": "stream",
     "text": [
      "yeni en iyi hibrit metrik kaydedildi!\n",
      "Epoch 47 Ortalama Doğrulama Kaybı: 0.5044 | Doğruluk: 0.8776\n",
      "En iyi metrik şu ana kadar: 0.8776 (epoch 47)\n",
      "--------------------\n",
      "Epoch 48/50\n"
     ]
    },
    {
     "name": "stderr",
     "output_type": "stream",
     "text": [
      "Hibrit Eğitim: 100%|██████████| 582/582 [02:33<00:00,  3.79it/s]\n"
     ]
    },
    {
     "name": "stdout",
     "output_type": "stream",
     "text": [
      "Epoch 48 Ortalama Eğitim Kaybı: 0.3848\n"
     ]
    },
    {
     "name": "stderr",
     "output_type": "stream",
     "text": [
      "Hibrit Doğrulama: 100%|██████████| 125/125 [00:26<00:00,  4.78it/s]\n"
     ]
    },
    {
     "name": "stdout",
     "output_type": "stream",
     "text": [
      "yeni en iyi hibrit metrik kaydedildi!\n",
      "Epoch 48 Ortalama Doğrulama Kaybı: 0.5153 | Doğruluk: 0.8786\n",
      "En iyi metrik şu ana kadar: 0.8786 (epoch 48)\n",
      "--------------------\n",
      "Epoch 49/50\n"
     ]
    },
    {
     "name": "stderr",
     "output_type": "stream",
     "text": [
      "Hibrit Eğitim: 100%|██████████| 582/582 [02:33<00:00,  3.78it/s]\n"
     ]
    },
    {
     "name": "stdout",
     "output_type": "stream",
     "text": [
      "Epoch 49 Ortalama Eğitim Kaybı: 0.3785\n"
     ]
    },
    {
     "name": "stderr",
     "output_type": "stream",
     "text": [
      "Hibrit Doğrulama: 100%|██████████| 125/125 [00:26<00:00,  4.76it/s]\n"
     ]
    },
    {
     "name": "stdout",
     "output_type": "stream",
     "text": [
      "Epoch 49 Ortalama Doğrulama Kaybı: 0.5282 | Doğruluk: 0.8786\n",
      "En iyi metrik şu ana kadar: 0.8786 (epoch 48)\n",
      "--------------------\n",
      "Epoch 50/50\n"
     ]
    },
    {
     "name": "stderr",
     "output_type": "stream",
     "text": [
      "Hibrit Eğitim: 100%|██████████| 582/582 [02:33<00:00,  3.80it/s]\n"
     ]
    },
    {
     "name": "stdout",
     "output_type": "stream",
     "text": [
      "Epoch 50 Ortalama Eğitim Kaybı: 0.3659\n"
     ]
    },
    {
     "name": "stderr",
     "output_type": "stream",
     "text": [
      "Hibrit Doğrulama: 100%|██████████| 125/125 [00:26<00:00,  4.75it/s]"
     ]
    },
    {
     "name": "stdout",
     "output_type": "stream",
     "text": [
      "Epoch 50 Ortalama Doğrulama Kaybı: 0.5299 | Doğruluk: 0.8786\n",
      "En iyi metrik şu ana kadar: 0.8786 (epoch 48)\n",
      "\n",
      "Hibrit eğitim tamamlandı. En iyi model 'best_hybrid_model.pth' olarak kaydedildi.\n"
     ]
    },
    {
     "name": "stderr",
     "output_type": "stream",
     "text": [
      "\n"
     ]
    }
   ],
   "source": [
    "# --- EĞİTİM VE DOĞRULAMA DÖNGÜSÜ ---\n",
    "from torch.optim.lr_scheduler import ReduceLROnPlateau\n",
    "for epoch in range(max_epochs):\n",
    "    print(\"-\" * 20)\n",
    "    print(f\"Epoch {epoch + 1}/{max_epochs}\")\n",
    "    \n",
    "    hybrid_model.train()\n",
    "    epoch_loss = 0\n",
    "    step = 0\n",
    "    \n",
    "    for batch_data in tqdm(hybrid_train_loader, desc=\"Hibrit Eğitim\"):\n",
    "        step += 1\n",
    "        inputs, tda_features, labels = (\n",
    "            batch_data[\"image\"].to(device),\n",
    "            batch_data[\"tda_feature\"].to(device),\n",
    "            batch_data[\"label\"].to(device),\n",
    "        )\n",
    "        \n",
    "        optimizer.zero_grad()\n",
    "        outputs = hybrid_model(inputs, tda_features)\n",
    "        loss = loss_function(outputs, labels)\n",
    "        loss.backward()\n",
    "        torch.nn.utils.clip_grad_norm_(hybrid_model.parameters(), 1.0)\n",
    "        optimizer.step()\n",
    "        \n",
    "        epoch_loss += loss.item()\n",
    "    \n",
    "    epoch_loss /= step\n",
    "    epoch_loss_values.append(epoch_loss)\n",
    "    print(f\"Epoch {epoch + 1} Ortalama Eğitim Kaybı: {epoch_loss:.4f}\")\n",
    "\n",
    "    if (epoch + 1) % val_interval == 0:\n",
    "        hybrid_model.eval()\n",
    "        val_epoch_loss = 0\n",
    "        val_step = 0\n",
    "        correct_predictions = 0\n",
    "        total_samples = 0\n",
    "\n",
    "        with torch.no_grad():\n",
    "            for val_batch in tqdm(hybrid_val_loader, desc=\"Hibrit Doğrulama\"):\n",
    "                val_step += 1\n",
    "                val_images, val_tda, val_labels = (\n",
    "                    val_batch[\"image\"].to(device),\n",
    "                    val_batch[\"tda_feature\"].to(device),\n",
    "                    val_batch[\"label\"].to(device),\n",
    "                )\n",
    "                val_outputs = hybrid_model(val_images, val_tda)\n",
    "                loss = loss_function(val_outputs, val_labels)\n",
    "                val_epoch_loss += loss.item()\n",
    "                predicted_classes = torch.argmax(val_outputs, dim=1)\n",
    "                correct_predictions += (predicted_classes == val_labels).sum().item()\n",
    "                total_samples += val_labels.size(0)\n",
    "            \n",
    "            mean_val_accuracy = correct_predictions / total_samples\n",
    "            metric_values.append(mean_val_accuracy)\n",
    "            \n",
    "            val_epoch_loss /= val_step\n",
    "            val_loss_values.append(val_epoch_loss)\n",
    "\n",
    "            if mean_val_accuracy > best_metric:\n",
    "                best_metric = mean_val_accuracy\n",
    "                best_metric_epoch = epoch + 1\n",
    "                torch.save(hybrid_model.state_dict(), \"best_hybrid_model.pth\")\n",
    "                print(\"yeni en iyi hibrit metrik kaydedildi!\")\n",
    "\n",
    "            print(\n",
    "                f\"Epoch {epoch + 1} Ortalama Doğrulama Kaybı: {val_epoch_loss:.4f} \"\n",
    "                f\"| Doğruluk: {mean_val_accuracy:.4f}\"\n",
    "            )\n",
    "            print(\n",
    "                f\"En iyi metrik şu ana kadar: {best_metric:.4f} \"\n",
    "                f\"(epoch {best_metric_epoch})\")\n",
    "            \n",
    "        scheduler.step(val_epoch_loss)\n",
    "\n",
    "print(f\"\\nHibrit eğitim tamamlandı. En iyi model 'best_hybrid_model.pth' olarak kaydedildi.\")"
   ]
  },
  {
   "cell_type": "code",
   "execution_count": 15,
   "id": "3fee9270",
   "metadata": {},
   "outputs": [
    {
     "name": "stderr",
     "output_type": "stream",
     "text": [
      "C:\\Users\\omer_\\AppData\\Local\\Temp\\ipykernel_10228\\1398242182.py:46: FutureWarning: You are using `torch.load` with `weights_only=False` (the current default value), which uses the default pickle module implicitly. It is possible to construct malicious pickle data which will execute arbitrary code during unpickling (See https://github.com/pytorch/pytorch/blob/main/SECURITY.md#untrusted-models for more details). In a future release, the default value for `weights_only` will be flipped to `True`. This limits the functions that could be executed during unpickling. Arbitrary objects will no longer be allowed to be loaded via this mode unless they are explicitly allowlisted by the user via `torch.serialization.add_safe_globals`. We recommend you start setting `weights_only=True` for any use case where you don't have full control of the loaded file. Please open an issue on GitHub for any issues related to this experimental feature.\n",
      "  hybrid_model.load_state_dict(torch.load(model_path))\n"
     ]
    },
    {
     "name": "stdout",
     "output_type": "stream",
     "text": [
      "'best_hybrid_model.pth' dosyasından hibrit model ağırlıkları başarıyla yüklendi.\n",
      "\n"
     ]
    },
    {
     "name": "stderr",
     "output_type": "stream",
     "text": [
      "Hibrit Model Test Ediliyor: 100%|██████████| 125/125 [00:42<00:00,  2.95it/s]"
     ]
    },
    {
     "name": "stdout",
     "output_type": "stream",
     "text": [
      "\n",
      "==================================================\n",
      "             HİBRİT MODEL NİHAİ TEST SONUÇLARI\n",
      "==================================================\n",
      "\n",
      "--- Sınıflandırma Raporu ---\n",
      "\n",
      "              precision    recall  f1-score   support\n",
      "\n",
      "    Bleeding       0.67      0.74      0.71       164\n",
      "    Ischemia       0.83      0.81      0.82       170\n",
      "      Normal       0.94      0.92      0.93       664\n",
      "\n",
      "    accuracy                           0.87       998\n",
      "   macro avg       0.81      0.82      0.82       998\n",
      "weighted avg       0.87      0.87      0.87       998\n",
      "\n",
      "\n",
      "==================================================\n",
      "                     Karışıklık Matrisi\n",
      "==================================================\n"
     ]
    },
    {
     "name": "stderr",
     "output_type": "stream",
     "text": [
      "\n"
     ]
    },
    {
     "data": {
      "image/png": "[encoded data removed]",
      "text/plain": [
       "<Figure size 800x600 with 2 Axes>"
      ]
     },
     "metadata": {},
     "output_type": "display_data"
    }
   ],
   "source": [
    "import torch\n",
    "import torch.nn as nn\n",
    "from tqdm import tqdm\n",
    "from sklearn.metrics import classification_report, confusion_matrix\n",
    "import seaborn as sns\n",
    "import matplotlib.pyplot as plt\n",
    "from monai.networks.nets import UNet\n",
    "\n",
    "# --- 1. HİBRİT MODEL SINIFINI TEKRAR TANIMLA ---\n",
    "# Notebook'u yeniden başlattıysanız bu tanım gereklidir.\n",
    "class HybridUNet(nn.Module):\n",
    "    def __init__(self, in_channels, out_channels):\n",
    "        super().__init__()\n",
    "        self.unet = UNet(\n",
    "            spatial_dims=2, in_channels=in_channels, out_channels=32,\n",
    "            channels=(16, 32, 64, 128, 256), strides=(2, 2, 2, 2),\n",
    "            num_res_units=2\n",
    "        )\n",
    "        self.tda_processor = nn.Sequential(\n",
    "            nn.Flatten(), nn.Linear(2 * 32 * 32, 512),\n",
    "            nn.LeakyReLU(0.2, inplace=True), nn.Linear(512, 128)\n",
    "        )\n",
    "        self.pool = nn.AdaptiveAvgPool2d((1, 1))\n",
    "        self.final_classifier = nn.Sequential(\n",
    "            nn.Linear(32 + 128, 64), nn.LeakyReLU(0.2, inplace=True),\n",
    "            nn.Dropout(0.5), nn.Linear(64, out_channels)\n",
    "        )\n",
    "\n",
    "    def forward(self, image, tda_feature):\n",
    "        image_features = self.unet(image)\n",
    "        pooled_image_features = self.pool(image_features)\n",
    "        flat_image_features = torch.flatten(pooled_image_features, 1)\n",
    "        processed_tda_feature = self.tda_processor(tda_feature)\n",
    "        combined_features = torch.cat([flat_image_features, processed_tda_feature], dim=1)\n",
    "        output = self.final_classifier(combined_features)\n",
    "        return output\n",
    "\n",
    "# --- 2. MODELİ YÜKLE VE HAZIRLA ---\n",
    "device = torch.device(\"cuda\" if torch.cuda.is_available() else \"cpu\")\n",
    "\n",
    "# Boş bir hibrit model oluştur ve GPU'ya gönder\n",
    "hybrid_model = HybridUNet(in_channels=1, out_channels=3).to(device)\n",
    "\n",
    "# En iyi eğitilmiş ağırlıkları yükle\n",
    "model_path = \"best_hybrid_model.pth\"\n",
    "hybrid_model.load_state_dict(torch.load(model_path))\n",
    "\n",
    "# Modeli değerlendirme moduna al (Dropout vb. katmanları kapatır)\n",
    "hybrid_model.eval()\n",
    "\n",
    "print(f\"'{model_path}' dosyasından hibrit model ağırlıkları başarıyla yüklendi.\\n\")\n",
    "\n",
    "\n",
    "# --- 3. MODELİ TEST VERİSİ ÜZERİNDE ÇALIŞTIR ---\n",
    "y_true = []\n",
    "y_pred = []\n",
    "\n",
    "with torch.no_grad(): # Gradyan hesaplamayı kapatarak belleği ve hızı optimize et\n",
    "    for test_batch in tqdm(hybrid_test_loader, desc=\"Hibrit Model Test Ediliyor\"):\n",
    "        # Verileri GPU'ya gönder\n",
    "        test_images, test_tda, test_labels = (\n",
    "            test_batch[\"image\"].to(device),\n",
    "            test_batch[\"tda_feature\"].to(device),\n",
    "            test_batch[\"label\"].to(device),\n",
    "        )\n",
    "        \n",
    "        # Modelden tahminleri al\n",
    "        test_outputs = hybrid_model(test_images, test_tda)\n",
    "        \n",
    "        # Tahmin edilen sınıfı al (en yüksek skora sahip olanın indeksi)\n",
    "        predicted_classes = torch.argmax(test_outputs, dim=1)\n",
    "        \n",
    "        # Tahminleri ve gerçek etiketleri listelere ekle\n",
    "        y_pred.extend(predicted_classes.cpu().numpy())\n",
    "        y_true.extend(test_labels.cpu().numpy())\n",
    "\n",
    "\n",
    "# --- 4. SONUÇLARI RAPORLA ---\n",
    "print(\"\\n\" + \"=\"*50)\n",
    "print(\"             HİBRİT MODEL NİHAİ TEST SONUÇLARI\")\n",
    "print(\"=\"*50)\n",
    "\n",
    "# Sınıflandırma Raporu (Classification Report)\n",
    "print(\"\\n--- Sınıflandırma Raporu ---\\n\")\n",
    "print(classification_report(y_true, y_pred, target_names=TRAIN_CLASSES))\n",
    "\n",
    "\n",
    "# Karışıklık Matrisi (Confusion Matrix)\n",
    "print(\"\\n\" + \"=\"*50)\n",
    "print(\"                     Karışıklık Matrisi\")\n",
    "print(\"=\"*50)\n",
    "cm = confusion_matrix(y_true, y_pred)\n",
    "plt.figure(figsize=(8, 6))\n",
    "sns.heatmap(cm, annot=True, fmt='d', cmap='Greens', xticklabels=TRAIN_CLASSES, yticklabels=TRAIN_CLASSES)\n",
    "plt.xlabel(\"Tahmin Edilen Sınıf\")\n",
    "plt.ylabel(\"Gerçek Sınıf\")\n",
    "plt.title(\"Hibrit Model Karışıklık Matrisi\")\n",
    "plt.show()"
   ]
  },
  {
   "cell_type": "markdown",
   "id": "bbc5b85d",
   "metadata": {},
   "source": [
    "## Standart Model ile Hibrit Model Karşılaştırması"
   ]
  },
  {
   "cell_type": "code",
   "execution_count": 18,
   "id": "f32035d5",
   "metadata": {},
   "outputs": [
    {
     "name": "stderr",
     "output_type": "stream",
     "text": [
      "C:\\Users\\omer_\\AppData\\Local\\Temp\\ipykernel_10228\\1760708055.py:2: FutureWarning: You are using `torch.load` with `weights_only=False` (the current default value), which uses the default pickle module implicitly. It is possible to construct malicious pickle data which will execute arbitrary code during unpickling (See https://github.com/pytorch/pytorch/blob/main/SECURITY.md#untrusted-models for more details). In a future release, the default value for `weights_only` will be flipped to `True`. This limits the functions that could be executed during unpickling. Arbitrary objects will no longer be allowed to be loaded via this mode unless they are explicitly allowlisted by the user via `torch.serialization.add_safe_globals`. We recommend you start setting `weights_only=True` for any use case where you don't have full control of the loaded file. Please open an issue on GitHub for any issues related to this experimental feature.\n",
      "  baseline_model.load_state_dict(torch.load(\"best_model.pth\"))\n",
      "C:\\Users\\omer_\\AppData\\Local\\Temp\\ipykernel_10228\\1760708055.py:7: FutureWarning: You are using `torch.load` with `weights_only=False` (the current default value), which uses the default pickle module implicitly. It is possible to construct malicious pickle data which will execute arbitrary code during unpickling (See https://github.com/pytorch/pytorch/blob/main/SECURITY.md#untrusted-models for more details). In a future release, the default value for `weights_only` will be flipped to `True`. This limits the functions that could be executed during unpickling. Arbitrary objects will no longer be allowed to be loaded via this mode unless they are explicitly allowlisted by the user via `torch.serialization.add_safe_globals`. We recommend you start setting `weights_only=True` for any use case where you don't have full control of the loaded file. Please open an issue on GitHub for any issues related to this experimental feature.\n",
      "  hybrid_model.load_state_dict(torch.load(\"best_hybrid_model.pth\"))\n"
     ]
    },
    {
     "name": "stdout",
     "output_type": "stream",
     "text": [
      "Her iki model de başarıyla yüklendi ve değerlendirme moduna alındı.\n",
      "\n"
     ]
    },
    {
     "name": "stderr",
     "output_type": "stream",
     "text": [
      "Baseline Model Test Ediliyor: 100%|██████████| 63/63 [00:23<00:00,  2.74it/s]\n",
      "Hibrit Model Test Ediliyor: 100%|██████████| 125/125 [00:25<00:00,  4.91it/s]"
     ]
    },
    {
     "name": "stdout",
     "output_type": "stream",
     "text": [
      "\n",
      "======================================================================\n",
      "                    MODEL PERFORMANS KARŞILAŞTIRMASI\n",
      "======================================================================\n",
      "\n",
      "------------------------------\n",
      "BASELINE MODEL SONUÇLARI\n",
      "------------------------------\n",
      "              precision    recall  f1-score   support\n",
      "\n",
      "    Bleeding       0.54      0.34      0.42       164\n",
      "    Ischemia       0.62      0.56      0.59       170\n",
      "      Normal       0.88      0.98      0.92       664\n",
      "\n",
      "    accuracy                           0.80       998\n",
      "   macro avg       0.68      0.63      0.64       998\n",
      "weighted avg       0.78      0.80      0.78       998\n",
      "\n",
      "\n",
      "------------------------------\n",
      "HİBRİT MODEL SONUÇLARI\n",
      "------------------------------\n",
      "              precision    recall  f1-score   support\n",
      "\n",
      "    Bleeding       0.67      0.74      0.71       164\n",
      "    Ischemia       0.83      0.81      0.82       170\n",
      "      Normal       0.94      0.92      0.93       664\n",
      "\n",
      "    accuracy                           0.87       998\n",
      "   macro avg       0.81      0.82      0.82       998\n",
      "weighted avg       0.87      0.87      0.87       998\n",
      "\n",
      "\n",
      "======================================================================\n"
     ]
    },
    {
     "name": "stderr",
     "output_type": "stream",
     "text": [
      "\n"
     ]
    }
   ],
   "source": [
    "baseline_model = ClassificationUNet(in_channels=1, out_channels=3).to(device)\n",
    "baseline_model.load_state_dict(torch.load(\"best_model.pth\"))\n",
    "baseline_model.eval()\n",
    "\n",
    "# Hibrit modeli oluştur ve eğitilmiş ağırlıkları yükle\n",
    "hybrid_model = HybridUNet(in_channels=1, out_channels=3).to(device)\n",
    "hybrid_model.load_state_dict(torch.load(\"best_hybrid_model.pth\"))\n",
    "hybrid_model.eval()\n",
    "\n",
    "print(\"Her iki model de başarıyla yüklendi ve değerlendirme moduna alındı.\\n\")\n",
    "\n",
    "\n",
    "# --- 3. BASELINE MODELİ TEST ET ---\n",
    "y_true_baseline = []\n",
    "y_pred_baseline = []\n",
    "with torch.no_grad():\n",
    "    for test_batch in tqdm(test_loader, desc=\"Baseline Model Test Ediliyor\"):\n",
    "        test_images, test_labels = (\n",
    "            test_batch[\"image\"].to(device),\n",
    "            test_batch[\"label\"].to(device),\n",
    "        )\n",
    "        test_outputs = baseline_model(test_images)\n",
    "        predicted_classes = torch.argmax(test_outputs, dim=1)\n",
    "        y_pred_baseline.extend(predicted_classes.cpu().numpy())\n",
    "        y_true_baseline.extend(test_labels.cpu().numpy())\n",
    "\n",
    "\n",
    "# --- 4. HİBRİT MODELİ TEST ET ---\n",
    "y_true_hybrid = []\n",
    "y_pred_hybrid = []\n",
    "with torch.no_grad():\n",
    "    for test_batch in tqdm(hybrid_test_loader, desc=\"Hibrit Model Test Ediliyor\"):\n",
    "        test_images, test_tda, test_labels = (\n",
    "            test_batch[\"image\"].to(device),\n",
    "            test_batch[\"tda_feature\"].to(device),\n",
    "            test_batch[\"label\"].to(device),\n",
    "        )\n",
    "        test_outputs = hybrid_model(test_images, test_tda)\n",
    "        predicted_classes = torch.argmax(test_outputs, dim=1)\n",
    "        y_pred_hybrid.extend(predicted_classes.cpu().numpy())\n",
    "        y_true_hybrid.extend(test_labels.cpu().numpy())\n",
    "\n",
    "\n",
    "# --- 5. SONUÇLARI YAN YANA GÖSTER ---\n",
    "print(\"\\n\" + \"=\"*70)\n",
    "print(\" \" * 20 + \"MODEL PERFORMANS KARŞILAŞTIRMASI\")\n",
    "print(\"=\"*70)\n",
    "\n",
    "print(\"\\n\" + \"-\"*30)\n",
    "print(\"BASELINE MODEL SONUÇLARI\")\n",
    "print(\"-\"*30)\n",
    "print(classification_report(y_true_baseline, y_pred_baseline, target_names=TRAIN_CLASSES))\n",
    "\n",
    "print(\"\\n\" + \"-\"*30)\n",
    "print(\"HİBRİT MODEL SONUÇLARI\")\n",
    "print(\"-\"*30)\n",
    "print(classification_report(y_true_hybrid, y_pred_hybrid, target_names=TRAIN_CLASSES))\n",
    "\n",
    "print(\"\\n\" + \"=\"*70)"
   ]
  },
  {
   "cell_type": "markdown",
   "id": "a7c788de",
   "metadata": {},
   "source": [
    "## Harici Test Verisi"
   ]
  },
  {
   "cell_type": "code",
   "execution_count": 11,
   "id": "13841651",
   "metadata": {},
   "outputs": [
    {
     "name": "stdout",
     "output_type": "stream",
     "text": [
      "Harici Test veri listesi oluşturuluyor...\n",
      "-> Harici Test veri listesi başarıyla oluşturuldu. Toplam 200 örnek bulundu.\n",
      "\n"
     ]
    }
   ],
   "source": [
    "# --- Harici Test Veri Listesini Oluşturma ---\n",
    "\n",
    "import pandas as pd\n",
    "import os\n",
    "\n",
    "print(\"Harici Test veri listesi oluşturuluyor...\")\n",
    "\n",
    "# Gerekli ayarların tanımlı olduğundan emin olalım\n",
    "# (Bu değişkenler, notebook'unuzun başındaki hücrelerde tanımlanmış olmalı)\n",
    "# DATA_DIR = r\"C:\\...\"\n",
    "# IMAGE_TYPE_FOLDER = 'DICOM'\n",
    "# FILE_EXTENSION = '.dcm'\n",
    "\n",
    "# CSV dosyanızdaki doğru sütun adları\n",
    "IMAGE_COLUMN_NAME = 'image_id'\n",
    "LABEL_COLUMN_NAME = 'Stroke'\n",
    "\n",
    "# Harici test seti dosyalarının yolları\n",
    "external_test_dir = os.path.join(DATA_DIR, 'External_Test')\n",
    "external_labels_path = os.path.join(external_test_dir, 'labels.csv')\n",
    "external_images_dir = os.path.join(external_test_dir, IMAGE_TYPE_FOLDER)\n",
    "\n",
    "# Boş listeyi tanımla\n",
    "external_data_list = []\n",
    "\n",
    "# CSV dosyasını oku ve listeyi doldur\n",
    "if os.path.exists(external_labels_path):\n",
    "    df_external = pd.read_csv(external_labels_path)\n",
    "    for _, row in df_external.iterrows():\n",
    "        img_name = f\"{str(row[IMAGE_COLUMN_NAME])}{FILE_EXTENSION}\"\n",
    "        img_path = os.path.join(external_images_dir, img_name)\n",
    "        \n",
    "        # Etiketi doğrudan sayı olarak al\n",
    "        label_id = int(row[LABEL_COLUMN_NAME])\n",
    "        \n",
    "        if os.path.exists(img_path):\n",
    "            external_data_list.append({\"image\": img_path, \"label\": label_id})\n",
    "\n",
    "print(f\"-> Harici Test veri listesi başarıyla oluşturuldu. Toplam {len(external_data_list)} örnek bulundu.\\n\")"
   ]
  },
  {
   "cell_type": "code",
   "execution_count": 12,
   "id": "fe1fae1b",
   "metadata": {},
   "outputs": [
    {
     "name": "stdout",
     "output_type": "stream",
     "text": [
      "Histogram eşleştirme için referans görüntü başarıyla yüklendi.\n"
     ]
    },
    {
     "ename": "ValueError",
     "evalue": "'list' argument must have no negative elements",
     "output_type": "error",
     "traceback": [
      "\u001b[1;31m---------------------------------------------------------------------------\u001b[0m",
      "\u001b[1;31mValueError\u001b[0m                                Traceback (most recent call last)",
      "Cell \u001b[1;32mIn[12], line 28\u001b[0m\n\u001b[0;32m     25\u001b[0m     external_array \u001b[38;5;241m=\u001b[39m external_array[external_array\u001b[38;5;241m.\u001b[39mshape[\u001b[38;5;241m0\u001b[39m] \u001b[38;5;241m/\u001b[39m\u001b[38;5;241m/\u001b[39m \u001b[38;5;241m2\u001b[39m, :, :]\n\u001b[0;32m     27\u001b[0m \u001b[38;5;66;03m# Eşleştirme işlemini yap\u001b[39;00m\n\u001b[1;32m---> 28\u001b[0m matched_array \u001b[38;5;241m=\u001b[39m \u001b[43mmatch_histograms\u001b[49m\u001b[43m(\u001b[49m\u001b[43mexternal_array\u001b[49m\u001b[43m,\u001b[49m\u001b[43m \u001b[49m\u001b[43mreference_array\u001b[49m\u001b[43m)\u001b[49m\n\u001b[0;32m     30\u001b[0m \u001b[38;5;66;03m# Sonuçları görselleştir\u001b[39;00m\n\u001b[0;32m     31\u001b[0m plt\u001b[38;5;241m.\u001b[39mfigure(figsize\u001b[38;5;241m=\u001b[39m(\u001b[38;5;241m18\u001b[39m, \u001b[38;5;241m6\u001b[39m))\n",
      "File \u001b[1;32mc:\\Users\\omer_\\anaconda3\\envs\\tdl\\lib\\site-packages\\skimage\\_shared\\utils.py:445\u001b[0m, in \u001b[0;36mchannel_as_last_axis.__call__.<locals>.fixed_func\u001b[1;34m(*args, **kwargs)\u001b[0m\n\u001b[0;32m    442\u001b[0m channel_axis \u001b[38;5;241m=\u001b[39m kwargs\u001b[38;5;241m.\u001b[39mget(\u001b[38;5;124m'\u001b[39m\u001b[38;5;124mchannel_axis\u001b[39m\u001b[38;5;124m'\u001b[39m, \u001b[38;5;28;01mNone\u001b[39;00m)\n\u001b[0;32m    444\u001b[0m \u001b[38;5;28;01mif\u001b[39;00m channel_axis \u001b[38;5;129;01mis\u001b[39;00m \u001b[38;5;28;01mNone\u001b[39;00m:\n\u001b[1;32m--> 445\u001b[0m     \u001b[38;5;28;01mreturn\u001b[39;00m func(\u001b[38;5;241m*\u001b[39margs, \u001b[38;5;241m*\u001b[39m\u001b[38;5;241m*\u001b[39mkwargs)\n\u001b[0;32m    447\u001b[0m \u001b[38;5;66;03m# TODO: convert scalars to a tuple in anticipation of eventually\u001b[39;00m\n\u001b[0;32m    448\u001b[0m \u001b[38;5;66;03m#       supporting a tuple of channel axes. Right now, only an\u001b[39;00m\n\u001b[0;32m    449\u001b[0m \u001b[38;5;66;03m#       integer or a single-element tuple is supported, though.\u001b[39;00m\n\u001b[0;32m    450\u001b[0m \u001b[38;5;28;01mif\u001b[39;00m np\u001b[38;5;241m.\u001b[39misscalar(channel_axis):\n",
      "File \u001b[1;32mc:\\Users\\omer_\\anaconda3\\envs\\tdl\\lib\\site-packages\\skimage\\exposure\\histogram_matching.py:87\u001b[0m, in \u001b[0;36mmatch_histograms\u001b[1;34m(image, reference, channel_axis)\u001b[0m\n\u001b[0;32m     84\u001b[0m         matched[\u001b[38;5;241m.\u001b[39m\u001b[38;5;241m.\u001b[39m\u001b[38;5;241m.\u001b[39m, channel] \u001b[38;5;241m=\u001b[39m matched_channel\n\u001b[0;32m     85\u001b[0m \u001b[38;5;28;01melse\u001b[39;00m:\n\u001b[0;32m     86\u001b[0m     \u001b[38;5;66;03m# _match_cumulative_cdf will always return float64 due to np.interp\u001b[39;00m\n\u001b[1;32m---> 87\u001b[0m     matched \u001b[38;5;241m=\u001b[39m \u001b[43m_match_cumulative_cdf\u001b[49m\u001b[43m(\u001b[49m\u001b[43mimage\u001b[49m\u001b[43m,\u001b[49m\u001b[43m \u001b[49m\u001b[43mreference\u001b[49m\u001b[43m)\u001b[49m\n\u001b[0;32m     89\u001b[0m \u001b[38;5;28;01mif\u001b[39;00m matched\u001b[38;5;241m.\u001b[39mdtype\u001b[38;5;241m.\u001b[39mkind \u001b[38;5;241m==\u001b[39m \u001b[38;5;124m'\u001b[39m\u001b[38;5;124mf\u001b[39m\u001b[38;5;124m'\u001b[39m:\n\u001b[0;32m     90\u001b[0m     \u001b[38;5;66;03m# output a float32 result when the input is float16 or float32\u001b[39;00m\n\u001b[0;32m     91\u001b[0m     out_dtype \u001b[38;5;241m=\u001b[39m utils\u001b[38;5;241m.\u001b[39m_supported_float_type(image\u001b[38;5;241m.\u001b[39mdtype)\n",
      "File \u001b[1;32mc:\\Users\\omer_\\anaconda3\\envs\\tdl\\lib\\site-packages\\skimage\\exposure\\histogram_matching.py:14\u001b[0m, in \u001b[0;36m_match_cumulative_cdf\u001b[1;34m(source, template)\u001b[0m\n\u001b[0;32m     12\u001b[0m src_lookup \u001b[38;5;241m=\u001b[39m source\u001b[38;5;241m.\u001b[39mreshape(\u001b[38;5;241m-\u001b[39m\u001b[38;5;241m1\u001b[39m)\n\u001b[0;32m     13\u001b[0m src_counts \u001b[38;5;241m=\u001b[39m np\u001b[38;5;241m.\u001b[39mbincount(src_lookup)\n\u001b[1;32m---> 14\u001b[0m tmpl_counts \u001b[38;5;241m=\u001b[39m \u001b[43mnp\u001b[49m\u001b[38;5;241;43m.\u001b[39;49m\u001b[43mbincount\u001b[49m\u001b[43m(\u001b[49m\u001b[43mtemplate\u001b[49m\u001b[38;5;241;43m.\u001b[39;49m\u001b[43mreshape\u001b[49m\u001b[43m(\u001b[49m\u001b[38;5;241;43m-\u001b[39;49m\u001b[38;5;241;43m1\u001b[39;49m\u001b[43m)\u001b[49m\u001b[43m)\u001b[49m\n\u001b[0;32m     16\u001b[0m \u001b[38;5;66;03m# omit values where the count was 0\u001b[39;00m\n\u001b[0;32m     17\u001b[0m tmpl_values \u001b[38;5;241m=\u001b[39m np\u001b[38;5;241m.\u001b[39mnonzero(tmpl_counts)[\u001b[38;5;241m0\u001b[39m]\n",
      "\u001b[1;31mValueError\u001b[0m: 'list' argument must have no negative elements"
     ]
    }
   ],
   "source": [
    "# --- Adım 1: Gerekli Kütüphaneler ve Referans Görüntü ---\n",
    "\n",
    "from skimage.exposure import match_histograms\n",
    "import pydicom\n",
    "import random\n",
    "import matplotlib.pyplot as plt\n",
    "\n",
    "# Histogram eşleştirme için bir referans görüntü seçelim.\n",
    "# Eğitim setimizdeki (train_data) herhangi bir görüntü olabilir.\n",
    "reference_image_path = train_data[0]['image'] # En basitinden ilkini alalım\n",
    "reference_dcm = pydicom.dcmread(reference_image_path)\n",
    "reference_array = reference_dcm.pixel_array\n",
    "\n",
    "# Eğer referans 3D ise, ortadaki kesiti al\n",
    "if reference_array.ndim == 3:\n",
    "    reference_array = reference_array[reference_array.shape[0] // 2, :, :]\n",
    "\n",
    "print(\"Histogram eşleştirme için referans görüntü başarıyla yüklendi.\")\n",
    "\n",
    "# Harici testten bir örnek alıp karşılaştıralım\n",
    "external_example_path = external_data_list[0]['image']\n",
    "external_dcm = pydicom.dcmread(external_example_path)\n",
    "external_array = external_dcm.pixel_array\n",
    "if external_array.ndim == 3:\n",
    "    external_array = external_array[external_array.shape[0] // 2, :, :]\n",
    "\n",
    "# Eşleştirme işlemini yap\n",
    "matched_array = match_histograms(external_array, reference_array)\n",
    "\n",
    "# Sonuçları görselleştir\n",
    "plt.figure(figsize=(18, 6))\n",
    "plt.subplot(1, 3, 1)\n",
    "plt.imshow(external_array, cmap='gray')\n",
    "plt.title(\"Harici Görüntü (Orijinal)\")\n",
    "plt.subplot(1, 3, 2)\n",
    "plt.imshow(reference_array, cmap='gray')\n",
    "plt.title(\"Referans Görüntü (Eğitim Setinden)\")\n",
    "plt.subplot(1, 3, 3)\n",
    "plt.imshow(matched_array, cmap='gray')\n",
    "plt.title(\"Harici Görüntü (Eşleştirilmiş Hali)\")\n",
    "plt.show()\n",
    "\n",
    "print(\"Görseldeki gibi, eşleştirilmiş görüntü artık referans görüntüye çok daha fazla benziyor.\")"
   ]
  },
  {
   "cell_type": "code",
   "execution_count": null,
   "id": "1f6c1c0c",
   "metadata": {},
   "outputs": [],
   "source": []
  }
 ],
 "metadata": {
  "kernelspec": {
   "display_name": "tdl",
   "language": "python",
   "name": "python3"
  },
  "language_info": {
   "codemirror_mode": {
    "name": "ipython",
    "version": 3
   },
   "file_extension": ".py",
   "mimetype": "text/x-python",
   "name": "python",
   "nbconvert_exporter": "python",
   "pygments_lexer": "ipython3",
   "version": "3.10.18"
  }
 },
 "nbformat": 4,
 "nbformat_minor": 5
}
