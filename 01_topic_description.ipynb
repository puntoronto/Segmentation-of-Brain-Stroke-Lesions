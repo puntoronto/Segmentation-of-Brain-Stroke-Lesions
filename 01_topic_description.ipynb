{
 "cells": [
  {
   "cell_type": "markdown",
   "metadata": {},
   "source": [
    "# Topolojik Derin Öğrenme ile Bilgisayarlı Tomografi Görüntülerinde Beyin İnmesi Lezyonlarının Semantik Segmentasyonu\n",
    "\n",
    "## Proje Genel Bakışı\n",
    "\n",
    "Bu proje, beyin inmesi (stroke) lezyonlarının CT görüntülerinde semantik segmentasyonunu gerçekleştirmek için topolojik derin öğrenme yaklaşımlarını araştırmaktadır.\n",
    "\n",
    "### Amaç\n",
    "\n",
    "Geleneksel U-Net ve diğer CNN tabanlı segmentasyon modellerini topolojik özelliklerle zenginleştirerek daha hassas ve şekil farkındalı lezyon tespiti yapmak.\n",
    "\n",
    "### Metodoloji\n",
    "\n",
    "1. **Topolojik Özellik Çıkarımı**: Kalıcı homoloji (persistent homology) kullanarak görüntülerden topolojik özellikler çıkarılması\n",
    "2. **Hibrit Mimari**: CNN'lerin topolojik özelliklerle birleştirilmesi\n",
    "3. **Karşılaştırmalı Analiz**: Standart U-Net ile topoloji destekli modellerin performans karşılaştırması\n",
    "\n",
    "### Kullanılan Teknolojiler\n",
    "\n",
    "- **PyTorch**: Derin öğrenme framework'ü\n",
    "- **GUDHI**: Hesaplamalı topoloji kütüphanesi\n",
    "- **gtda**: Topolojik veri analizi araçları\n",
    "- **OpenCV**: Görüntü işleme\n",
    "- **NumPy/SciPy**: Bilimsel hesaplama\n",
    "- **Matplotlib/Seaborn**: Görselleştirme"
   ]
  },
  {
   "cell_type": "markdown",
   "metadata": {},
   "source": [
    "## Veri Seti\n",
    "\n",
    "### Kaynak\n",
    "- **Sağlayıcı**: Türkiye Cumhuriyeti Sağlık Bakanlığı\n",
    "- **Platform**: [Açık Veri Platformu](https://acikveri.saglik.gov.tr/Home/DataSetDetail/1)\n",
    "- **Kaggle**: [Brain Stroke CT Dataset](https://www.kaggle.com/datasets/ozguraslank/brain-stroke-ct-dataset)\n",
    "\n",
    "### Veri Özellikleri\n",
    "- CT görüntüleri (DICOM formatı)\n",
    "- Manuel segmentasyon maskeleri\n",
    "- Çeşitli lezyon boyutları ve konumları\n",
    "- Klinik metadata (yaş, cinsiyet, vb.)\n",
    "\n",
    "### Etik Konular\n",
    "Tüm yasal haklar T.C. Sağlık Bakanlığı'na aittir. Veri kullanımı akademik araştırma amaçlıdır."
   ]
  },
  {
   "cell_type": "markdown",
   "metadata": {},
   "source": [
    "## Topolojik Derin Öğrenme Yaklaşımı\n",
    "\n",
    "### Kalıcı Homoloji (Persistent Homology)\n",
    "\n",
    "Kalıcı homoloji, verideki topolojik yapıları (bağlantılar, delikler, boşluklar) farklı ölçeklerde analiz etmeyi sağlar.\n",
    "\n",
    "#### CT Görüntülerinde Uygulanması:\n",
    "1. **0-boyutlu özellikler**: Bağlantısız bileşenler (lezyonların sayısı)\n",
    "2. **1-boyutlu özellikler**: Döngüler (lezyon sınırlarının karmaşıklığı)\n",
    "3. **2-boyutlu özellikler**: Boşluklar (lezyon içi yapılar)\n",
    "\n",
    "### Hibrit Mimari\n",
    "\n",
    "```\n",
    "CT Görüntüsü\n",
    "     |\n",
    "     v\n",
    "┌─────────────┐    ┌──────────────────┐\n",
    "│   U-Net     │    │   Topolojik      │\n",
    "│   Encoder   │    │   Özellik        │\n",
    "│             │    │   Çıkarımı       │\n",
    "└─────────────┘    └──────────────────┘\n",
    "     |                      |\n",
    "     v                      v\n",
    "┌─────────────────────────────────────┐\n",
    "│        Özellik Birleştirme          │\n",
    "└─────────────────────────────────────┘\n",
    "     |\n",
    "     v\n",
    "┌─────────────┐\n",
    "│   U-Net     │\n",
    "│   Decoder   │\n",
    "└─────────────┘\n",
    "     |\n",
    "     v\n",
    "Segmentasyon Maskesi\n",
    "```"
   ]
  },
  {
   "cell_type": "markdown",
   "metadata": {},
   "source": [
    "## Değerlendirme Metrikleri\n",
    "\n",
    "### Segmentasyon Metrikleri\n",
    "- **Dice Skoru**: Örtüşme ölçüsü\n",
    "- **IoU (Intersection over Union)**: Kesişim/birleşim oranı\n",
    "- **Hassasiyet (Precision)**: Doğru pozitif/toplam pozitif\n",
    "- **Duyarlılık (Recall)**: Doğru pozitif/gerçek pozitif\n",
    "- **Hausdorff Mesafesi**: Sınır hassasiyeti\n",
    "\n",
    "### Topolojik Metrikleri\n",
    "- **Betti Sayıları Hatası**: Topolojik yapı koruma\n",
    "- **Kalıcılık Diagramı Karşılaştırması**: Wasserstein mesafesi\n",
    "- **Şekil Farkındalığı**: Lezyon morfolojisi korunumu"
   ]
  },
  {
   "cell_type": "markdown",
   "metadata": {},
   "source": [
    "## Beklenen Sonuçlar\n",
    "\n",
    "### Hipotez\n",
    "Topolojik özelliklerle zenginleştirilmiş derin öğrenme modelleri, özellikle karmaşık şekilli ve küçük lezyonların segmentasyonunda standart CNN modellerinden daha iyi performans gösterecektir.\n",
    "\n",
    "### Beklenen İyileştirmeler\n",
    "1. **Şekil Farkındalığı**: Lezyon sınırlarının daha hassas tespiti\n",
    "2. **Küçük Lezyon Tespiti**: Düşük kontrast alanlarında iyileştirilmiş hassasiyet\n",
    "3. **Topolojik Tutarlılık**: Segmentasyon sonuçlarında anatomik yapıların korunması\n",
    "4. **Gürültü Direnci**: Görüntü kalitesi düşük olduğunda daha sağlam performans\n",
    "\n",
    "### Uygulama Alanları\n",
    "- Acil tıp radyolojisi\n",
    "- Bilgisayar destekli tanı sistemleri\n",
    "- Tedavi planlaması\n",
    "- Prognoz değerlendirmesi"
   ]
  }
 ],
 "metadata": {
  "kernelspec": {
   "display_name": "Python 3",
   "language": "python",
   "name": "python3"
  },
  "language_info": {
   "codemirror_mode": {
    "name": "ipython",
    "version": 3
   },
   "file_extension": ".py",
   "mimetype": "text/x-python",
   "name": "python",
   "nbconvert_exporter": "python",
   "pygments_lexer": "ipython3",
   "version": "3.8.10"
  }
 },
 "nbformat": 4,
 "nbformat_minor": 4
}